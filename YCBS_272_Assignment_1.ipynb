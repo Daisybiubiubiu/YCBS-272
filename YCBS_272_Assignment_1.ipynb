{
  "nbformat": 4,
  "nbformat_minor": 0,
  "metadata": {
    "colab": {
      "name": "YCBS 272 Assignment #1.ipynb",
      "version": "0.3.2",
      "provenance": [],
      "include_colab_link": true
    },
    "kernelspec": {
      "name": "python3",
      "display_name": "Python 3"
    }
  },
  "cells": [
    {
      "cell_type": "markdown",
      "metadata": {
        "id": "view-in-github",
        "colab_type": "text"
      },
      "source": [
        "<a href=\"https://colab.research.google.com/github/arbi11/YCBS-272/blob/master/YCBS_272_Assignment_1.ipynb\" target=\"_parent\"><img src=\"https://colab.research.google.com/assets/colab-badge.svg\" alt=\"Open In Colab\"/></a>"
      ]
    },
    {
      "cell_type": "markdown",
      "metadata": {
        "id": "YJo_S85eIqif",
        "colab_type": "text"
      },
      "source": [
        "# Instructions for Assignment 1\n",
        "\n",
        "\n",
        "\n",
        "1.   All the submissions should be attempted individually.\n",
        "1.   Please submit the assignment either on **mycources** or mail directly to arbaaz.khan@mail.mcgill.ca\n",
        "2.   You have the option of either submitted the python notebook (.ipynb) or in .pdf format\n",
        "1.   Maximum points associated with this assignment = 15.\n",
        "\n",
        "\n",
        "\n",
        "\n",
        "\n"
      ]
    },
    {
      "cell_type": "markdown",
      "metadata": {
        "id": "Gws3-I_BLjIA",
        "colab_type": "text"
      },
      "source": [
        "# 1 Numpy "
      ]
    },
    {
      "cell_type": "markdown",
      "metadata": {
        "id": "8secrsTwJZ91",
        "colab_type": "text"
      },
      "source": [
        "## 1.1 Create an *empty* numpy array of size [3, 8]\n",
        "[1 point]"
      ]
    },
    {
      "cell_type": "code",
      "metadata": {
        "id": "lQpDPTHQIoqT",
        "colab_type": "code",
        "colab": {}
      },
      "source": [
        ""
      ],
      "execution_count": 0,
      "outputs": []
    },
    {
      "cell_type": "markdown",
      "metadata": {
        "id": "5fGW069jJqeH",
        "colab_type": "text"
      },
      "source": [
        "## 1.2 Check the size and data type of the array\n",
        "[1 point]"
      ]
    },
    {
      "cell_type": "code",
      "metadata": {
        "id": "JsZsV8wCJ0YW",
        "colab_type": "code",
        "colab": {}
      },
      "source": [
        ""
      ],
      "execution_count": 0,
      "outputs": []
    },
    {
      "cell_type": "markdown",
      "metadata": {
        "id": "l2m9HSNeJ3XH",
        "colab_type": "text"
      },
      "source": [
        "## 1.3 Assign the value of 6 to the element at row= 2 and column = 7\n",
        "[1 point]"
      ]
    },
    {
      "cell_type": "code",
      "metadata": {
        "id": "2wpw6h6BKBff",
        "colab_type": "code",
        "colab": {}
      },
      "source": [
        ""
      ],
      "execution_count": 0,
      "outputs": []
    },
    {
      "cell_type": "markdown",
      "metadata": {
        "id": "1UjEemKjKTI4",
        "colab_type": "text"
      },
      "source": [
        "## 1.4 Reshape the array to dimension [8, 3]\n",
        "Can you think of multiple ways to do this?\n",
        "\n",
        "[1 point]"
      ]
    },
    {
      "cell_type": "code",
      "metadata": {
        "id": "w43AW7W8Kf5A",
        "colab_type": "code",
        "colab": {}
      },
      "source": [
        ""
      ],
      "execution_count": 0,
      "outputs": []
    },
    {
      "cell_type": "markdown",
      "metadata": {
        "id": "u-02gWOoLneY",
        "colab_type": "text"
      },
      "source": [
        "# 2. Numpy - Advanced"
      ]
    },
    {
      "cell_type": "markdown",
      "metadata": {
        "id": "98J9GTyXKnAt",
        "colab_type": "text"
      },
      "source": [
        "## 2.1 Create an array of integers ranging from 2 to 10\n",
        "[1 point]"
      ]
    },
    {
      "cell_type": "code",
      "metadata": {
        "id": "oy5bVdGGKtb3",
        "colab_type": "code",
        "colab": {}
      },
      "source": [
        ""
      ],
      "execution_count": 0,
      "outputs": []
    },
    {
      "cell_type": "markdown",
      "metadata": {
        "id": "H_s14ViAKuqg",
        "colab_type": "text"
      },
      "source": [
        "## 2.2 Slice and Assign \n",
        "such that your array substitute all **even** (2, 4, 6 ...) values in the array with 0 (zero).\n",
        "\n",
        "[1 point]"
      ]
    },
    {
      "cell_type": "code",
      "metadata": {
        "id": "PaO-LBhsLRpo",
        "colab_type": "code",
        "colab": {}
      },
      "source": [
        ""
      ],
      "execution_count": 0,
      "outputs": []
    },
    {
      "cell_type": "markdown",
      "metadata": {
        "id": "8e6nqa0GLSSL",
        "colab_type": "text"
      },
      "source": [
        "## 2.3 Find all unique values in the modified array of section 2.2\n",
        "[1 point]"
      ]
    },
    {
      "cell_type": "code",
      "metadata": {
        "id": "Qs4lDFbELd_v",
        "colab_type": "code",
        "colab": {}
      },
      "source": [
        ""
      ],
      "execution_count": 0,
      "outputs": []
    },
    {
      "cell_type": "markdown",
      "metadata": {
        "id": "-WnNacoFLrjp",
        "colab_type": "text"
      },
      "source": [
        "# 3. Pandas"
      ]
    },
    {
      "cell_type": "markdown",
      "metadata": {
        "id": "UpCggGnVLgqR",
        "colab_type": "text"
      },
      "source": [
        "## 3.1 Create a Series with integers ranging from 5 to 10 with any index of your choice.\n",
        "[1 point]"
      ]
    },
    {
      "cell_type": "code",
      "metadata": {
        "id": "mFINTQvvL4Iv",
        "colab_type": "code",
        "colab": {}
      },
      "source": [
        ""
      ],
      "execution_count": 0,
      "outputs": []
    },
    {
      "cell_type": "markdown",
      "metadata": {
        "id": "nqSgzAJHL4-5",
        "colab_type": "text"
      },
      "source": [
        "## 3.2 Print out all the entries in the Series defined in Section# 3.1 with value less than 7\n",
        "[1 point]"
      ]
    },
    {
      "cell_type": "markdown",
      "metadata": {
        "id": "Z8VlKiKgCWHg",
        "colab_type": "text"
      },
      "source": [
        ""
      ]
    },
    {
      "cell_type": "markdown",
      "metadata": {
        "id": "aILSFLQ_AyDe",
        "colab_type": "text"
      },
      "source": [
        "# 4. Pandas - Advanced"
      ]
    },
    {
      "cell_type": "markdown",
      "metadata": {
        "id": "aN_Mu7o_BG55",
        "colab_type": "text"
      },
      "source": [
        "## 4.1 The following is the dataset created in a python *dict*\n",
        "\n",
        "Convert it into a dataframe\n",
        "\n",
        "[1 point]"
      ]
    },
    {
      "cell_type": "code",
      "metadata": {
        "id": "bjRHqvZ6A096",
        "colab_type": "code",
        "outputId": "7559ac9f-ebc8-4a43-e81e-7959fd433b53",
        "colab": {
          "base_uri": "https://localhost:8080/",
          "height": 68
        }
      },
      "source": [
        "data = {'state': ['Ohio', 'Ohio', 'Ohio', 'Nevada', 'Nevada'], 'year': [2000, 2001, 2002, 2001, 2002], 'pop': [1.5, 1.7, 3.6, 2.4, 2.9]}\n",
        "data"
      ],
      "execution_count": 0,
      "outputs": [
        {
          "output_type": "execute_result",
          "data": {
            "text/plain": [
              "{'pop': [1.5, 1.7, 3.6, 2.4, 2.9],\n",
              " 'state': ['Ohio', 'Ohio', 'Ohio', 'Nevada', 'Nevada'],\n",
              " 'year': [2000, 2001, 2002, 2001, 2002]}"
            ]
          },
          "metadata": {
            "tags": []
          },
          "execution_count": 2
        }
      ]
    },
    {
      "cell_type": "code",
      "metadata": {
        "id": "8xLCAcTcBnJj",
        "colab_type": "code",
        "colab": {}
      },
      "source": [
        ""
      ],
      "execution_count": 0,
      "outputs": []
    },
    {
      "cell_type": "markdown",
      "metadata": {
        "id": "6F6f3CeqBsai",
        "colab_type": "text"
      },
      "source": [
        "## 4.2 Print out the first 3 enties in the dataframe created in Section# 4.1\n",
        "[1 point]"
      ]
    },
    {
      "cell_type": "code",
      "metadata": {
        "id": "rMyi1CMJCud9",
        "colab_type": "code",
        "colab": {}
      },
      "source": [
        ""
      ],
      "execution_count": 0,
      "outputs": []
    },
    {
      "cell_type": "markdown",
      "metadata": {
        "id": "U5AtL4xoDxvE",
        "colab_type": "text"
      },
      "source": [
        "## 4.3 Sum the population size of all the entries\n",
        "[1 point]"
      ]
    },
    {
      "cell_type": "markdown",
      "metadata": {
        "id": "pvNPi_W1BdHu",
        "colab_type": "text"
      },
      "source": [
        "## 4.4 Remove all the entries with state: 'Nevada'\n",
        "[1 point]"
      ]
    },
    {
      "cell_type": "code",
      "metadata": {
        "id": "bxj2J-L7BDra",
        "colab_type": "code",
        "colab": {}
      },
      "source": [
        ""
      ],
      "execution_count": 0,
      "outputs": []
    },
    {
      "cell_type": "markdown",
      "metadata": {
        "id": "wD1FRIKiC534",
        "colab_type": "text"
      },
      "source": [
        "#5. Difference between 'Bar Chart' and a 'Histogram'"
      ]
    },
    {
      "cell_type": "markdown",
      "metadata": {
        "id": "8m72PG9BDMjT",
        "colab_type": "text"
      },
      "source": [
        ""
      ]
    },
    {
      "cell_type": "markdown",
      "metadata": {
        "id": "cm9QElCeDToF",
        "colab_type": "text"
      },
      "source": [
        "# 6. Advantages of scatter plots?"
      ]
    },
    {
      "cell_type": "markdown",
      "metadata": {
        "id": "1Pj67IGNDagY",
        "colab_type": "text"
      },
      "source": [
        ""
      ]
    }
  ]
}