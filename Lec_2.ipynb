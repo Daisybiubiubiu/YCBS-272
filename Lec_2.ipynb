{
  "nbformat": 4,
  "nbformat_minor": 0,
  "metadata": {
    "colab": {
      "name": "Lec 2.ipynb",
      "version": "0.3.2",
      "provenance": [],
      "include_colab_link": true
    },
    "kernelspec": {
      "name": "python3",
      "display_name": "Python 3"
    }
  },
  "cells": [
    {
      "cell_type": "markdown",
      "metadata": {
        "id": "view-in-github",
        "colab_type": "text"
      },
      "source": [
        "<a href=\"https://colab.research.google.com/github/arbi11/YCBS-272/blob/master/Lec_2.ipynb\" target=\"_parent\"><img src=\"https://colab.research.google.com/assets/colab-badge.svg\" alt=\"Open In Colab\"/></a>"
      ]
    },
    {
      "cell_type": "markdown",
      "metadata": {
        "id": "h3Q4h_WUrKNU",
        "colab_type": "text"
      },
      "source": [
        "# 1. Import the necessary libraries"
      ]
    },
    {
      "cell_type": "code",
      "metadata": {
        "id": "bT6TMOdPY76o",
        "colab_type": "code",
        "colab": {}
      },
      "source": [
        "import numpy as np"
      ],
      "execution_count": 0,
      "outputs": []
    },
    {
      "cell_type": "markdown",
      "metadata": {
        "id": "s3XltIqOrRUn",
        "colab_type": "text"
      },
      "source": [
        "## 1.1 Creating a numpy array"
      ]
    },
    {
      "cell_type": "code",
      "metadata": {
        "id": "Guu4XsqsrZiQ",
        "colab_type": "code",
        "colab": {}
      },
      "source": [
        "data = np.random.rand(2, 4)"
      ],
      "execution_count": 0,
      "outputs": []
    },
    {
      "cell_type": "markdown",
      "metadata": {
        "id": "SCzL8KftrkBg",
        "colab_type": "text"
      },
      "source": [
        "the array can be printed with just mentioning the variable name"
      ]
    },
    {
      "cell_type": "code",
      "metadata": {
        "id": "BCF2EJNgrigY",
        "colab_type": "code",
        "colab": {
          "base_uri": "https://localhost:8080/",
          "height": 51
        },
        "outputId": "515f85f9-23b2-4ac7-8c44-7e1601f862c4"
      },
      "source": [
        "data"
      ],
      "execution_count": 5,
      "outputs": [
        {
          "output_type": "execute_result",
          "data": {
            "text/plain": [
              "array([[0.97884115, 0.1622496 , 0.41781171, 0.71349695],\n",
              "       [0.88407781, 0.5070871 , 0.74571205, 0.67995647]])"
            ]
          },
          "metadata": {
            "tags": []
          },
          "execution_count": 5
        }
      ]
    },
    {
      "cell_type": "markdown",
      "metadata": {
        "id": "bguqaQXhrtdA",
        "colab_type": "text"
      },
      "source": [
        "## Q1. Create a variable with size [3, 6]"
      ]
    },
    {
      "cell_type": "code",
      "metadata": {
        "id": "ujnW3f35rtD_",
        "colab_type": "code",
        "colab": {}
      },
      "source": [
        ""
      ],
      "execution_count": 0,
      "outputs": []
    },
    {
      "cell_type": "markdown",
      "metadata": {
        "id": "ochQVpXMr3Lw",
        "colab_type": "text"
      },
      "source": [
        "## 1.2 Creating a numpy array from sampling via normal distribution\n",
        "creating an array with random numbers from normal distribution\n",
        "\n",
        "N(mu, sd)\n",
        "\n",
        "\n",
        "numpy samples from N(mu, variance) of N(0, 1)"
      ]
    },
    {
      "cell_type": "code",
      "metadata": {
        "id": "2YpYsek5sA54",
        "colab_type": "code",
        "colab": {
          "base_uri": "https://localhost:8080/",
          "height": 51
        },
        "outputId": "81687c26-ac26-4782-8e0c-d6c68ab84314"
      },
      "source": [
        "data = np.random.randn(2, 4)\n",
        "data"
      ],
      "execution_count": 7,
      "outputs": [
        {
          "output_type": "execute_result",
          "data": {
            "text/plain": [
              "array([[ 0.50342014,  1.28165121,  1.20886991,  0.22903815],\n",
              "       [ 0.22199126,  0.95831356, -1.79270578,  0.6123828 ]])"
            ]
          },
          "metadata": {
            "tags": []
          },
          "execution_count": 7
        }
      ]
    },
    {
      "cell_type": "markdown",
      "metadata": {
        "id": "LWi_ep58stsf",
        "colab_type": "text"
      },
      "source": [
        "## Q2. Create a variable with normal data size [2, 4] with mu = 5 and sd = 2\n",
        "variance = ?"
      ]
    },
    {
      "cell_type": "code",
      "metadata": {
        "id": "Ey1vxugLY9-c",
        "colab_type": "code",
        "colab": {}
      },
      "source": [
        ""
      ],
      "execution_count": 0,
      "outputs": []
    },
    {
      "cell_type": "markdown",
      "metadata": {
        "id": "XUKErezztj5I",
        "colab_type": "text"
      },
      "source": [
        "## 1.3 Data shape"
      ]
    },
    {
      "cell_type": "code",
      "metadata": {
        "id": "I5NUUwNxtmSX",
        "colab_type": "code",
        "colab": {
          "base_uri": "https://localhost:8080/",
          "height": 34
        },
        "outputId": "a432123a-ecb7-4323-c91c-a6f3937fa3b5"
      },
      "source": [
        "data.shape\n"
      ],
      "execution_count": 8,
      "outputs": [
        {
          "output_type": "execute_result",
          "data": {
            "text/plain": [
              "(2, 4)"
            ]
          },
          "metadata": {
            "tags": []
          },
          "execution_count": 8
        }
      ]
    },
    {
      "cell_type": "markdown",
      "metadata": {
        "id": "cbkldWyNtpUH",
        "colab_type": "text"
      },
      "source": [
        "## 1.4 Data type"
      ]
    },
    {
      "cell_type": "code",
      "metadata": {
        "id": "PPDlzZHbtrfq",
        "colab_type": "code",
        "colab": {
          "base_uri": "https://localhost:8080/",
          "height": 34
        },
        "outputId": "fe74a222-eefe-4759-e175-352ab2e4d088"
      },
      "source": [
        "data.dtype \n"
      ],
      "execution_count": 9,
      "outputs": [
        {
          "output_type": "execute_result",
          "data": {
            "text/plain": [
              "dtype('float64')"
            ]
          },
          "metadata": {
            "tags": []
          },
          "execution_count": 9
        }
      ]
    },
    {
      "cell_type": "code",
      "metadata": {
        "id": "0eH7T7rbudAw",
        "colab_type": "code",
        "colab": {}
      },
      "source": [
        "arr = np.array([1, 2, 3, 4, 5])"
      ],
      "execution_count": 0,
      "outputs": []
    },
    {
      "cell_type": "code",
      "metadata": {
        "id": "tPxKktr-ue3A",
        "colab_type": "code",
        "colab": {}
      },
      "source": [
        "arr.dtype"
      ],
      "execution_count": 0,
      "outputs": []
    },
    {
      "cell_type": "code",
      "metadata": {
        "id": "lnBwwSf0ugRo",
        "colab_type": "code",
        "colab": {}
      },
      "source": [
        "arr = np.array([3.7, -1.2, -2.6, 0.5, 12.9, 10.1], dtype= np.float32)"
      ],
      "execution_count": 0,
      "outputs": []
    },
    {
      "cell_type": "code",
      "metadata": {
        "id": "UktI35YiuhyY",
        "colab_type": "code",
        "colab": {}
      },
      "source": [
        "arr.dtype"
      ],
      "execution_count": 0,
      "outputs": []
    },
    {
      "cell_type": "markdown",
      "metadata": {
        "id": "jzDKepDnuttQ",
        "colab_type": "text"
      },
      "source": [
        "### 1.4.1 integers were cast to floating point. If I cast some floating point numbers to be of integer dtype, the decimal part will be truncated"
      ]
    },
    {
      "cell_type": "code",
      "metadata": {
        "id": "-2hP-Xp1ujjw",
        "colab_type": "code",
        "colab": {}
      },
      "source": [
        "arr2 = arr.astype(np.int32)"
      ],
      "execution_count": 0,
      "outputs": []
    },
    {
      "cell_type": "code",
      "metadata": {
        "id": "kAmjxLyvulQI",
        "colab_type": "code",
        "colab": {}
      },
      "source": [
        "arr3 = arr2.astype(float)"
      ],
      "execution_count": 0,
      "outputs": []
    },
    {
      "cell_type": "code",
      "metadata": {
        "id": "UjQDuKzlumjA",
        "colab_type": "code",
        "colab": {}
      },
      "source": [
        "arr3.dtype"
      ],
      "execution_count": 0,
      "outputs": []
    },
    {
      "cell_type": "markdown",
      "metadata": {
        "id": "9uFZDaQ4TLLo",
        "colab_type": "text"
      },
      "source": [
        "## 1.5 Perform mathematical operations on whole blocks of data"
      ]
    },
    {
      "cell_type": "code",
      "metadata": {
        "id": "-xn_yexiTGKJ",
        "colab_type": "code",
        "outputId": "a5db87ba-3d2a-4875-aee7-9b4677b38dc5",
        "colab": {
          "base_uri": "https://localhost:8080/",
          "height": 51
        }
      },
      "source": [
        "data*2"
      ],
      "execution_count": 0,
      "outputs": [
        {
          "output_type": "execute_result",
          "data": {
            "text/plain": [
              "array([[-3.2594972 , -0.89128802,  0.32175992],\n",
              "       [-0.25591412, -0.99694125, -2.22529742]])"
            ]
          },
          "metadata": {
            "tags": []
          },
          "execution_count": 5
        }
      ]
    },
    {
      "cell_type": "code",
      "metadata": {
        "id": "nvfJnZAKZC4j",
        "colab_type": "code",
        "outputId": "a0397d9d-b49f-4b96-9184-bdd0d0c0dad2",
        "colab": {
          "base_uri": "https://localhost:8080/",
          "height": 51
        }
      },
      "source": [
        "data+data"
      ],
      "execution_count": 0,
      "outputs": [
        {
          "output_type": "execute_result",
          "data": {
            "text/plain": [
              "array([[-3.2594972 , -0.89128802,  0.32175992],\n",
              "       [-0.25591412, -0.99694125, -2.22529742]])"
            ]
          },
          "metadata": {
            "tags": []
          },
          "execution_count": 6
        }
      ]
    },
    {
      "cell_type": "code",
      "metadata": {
        "id": "TYlxPwg1uOgg",
        "colab_type": "code",
        "colab": {
          "base_uri": "https://localhost:8080/",
          "height": 51
        },
        "outputId": "311bc2af-58e8-495b-f3b8-b45a7014383d"
      },
      "source": [
        "1/data"
      ],
      "execution_count": 10,
      "outputs": [
        {
          "output_type": "execute_result",
          "data": {
            "text/plain": [
              "array([[ 1.98641239,  0.78024348,  0.82721887,  4.36608483],\n",
              "       [ 4.50468188,  1.04349979, -0.55781602,  1.63296553]])"
            ]
          },
          "metadata": {
            "tags": []
          },
          "execution_count": 10
        }
      ]
    },
    {
      "cell_type": "code",
      "metadata": {
        "id": "N82J3D-tR8Uc",
        "colab_type": "code",
        "outputId": "b939322d-510e-4531-d6a6-09a9cc023326",
        "colab": {
          "base_uri": "https://localhost:8080/",
          "height": 34
        }
      },
      "source": [
        "data.shape"
      ],
      "execution_count": 0,
      "outputs": [
        {
          "output_type": "execute_result",
          "data": {
            "text/plain": [
              "(2, 3)"
            ]
          },
          "metadata": {
            "tags": []
          },
          "execution_count": 7
        }
      ]
    },
    {
      "cell_type": "code",
      "metadata": {
        "id": "gHfSlaReUx6p",
        "colab_type": "code",
        "outputId": "cc79e0f5-cc4a-4d93-b36b-32cd9cf72420",
        "colab": {
          "base_uri": "https://localhost:8080/",
          "height": 34
        }
      },
      "source": [
        "data.dtype"
      ],
      "execution_count": 59,
      "outputs": [
        {
          "output_type": "execute_result",
          "data": {
            "text/plain": [
              "dtype('int64')"
            ]
          },
          "metadata": {
            "tags": []
          },
          "execution_count": 59
        }
      ]
    },
    {
      "cell_type": "markdown",
      "metadata": {
        "id": "em9evCJEuQzH",
        "colab_type": "text"
      },
      "source": [
        "## Q3. How to provide a copy of the data rather than just a view"
      ]
    },
    {
      "cell_type": "code",
      "metadata": {
        "id": "7WBoEXxfuZYI",
        "colab_type": "code",
        "colab": {}
      },
      "source": [
        ""
      ],
      "execution_count": 0,
      "outputs": []
    },
    {
      "cell_type": "markdown",
      "metadata": {
        "id": "Eye3AaBNXkAw",
        "colab_type": "text"
      },
      "source": [
        "integers were cast to floating point. If I cast some floating point numbers to be of integer dtype, the decimal part will be truncated"
      ]
    },
    {
      "cell_type": "markdown",
      "metadata": {
        "id": "Zqmcgpy8u1kQ",
        "colab_type": "text"
      },
      "source": [
        "## 1.6 Indexing & Slicing - 1D"
      ]
    },
    {
      "cell_type": "code",
      "metadata": {
        "id": "pPLFqcnkuyjA",
        "colab_type": "code",
        "colab": {}
      },
      "source": [
        "data = np.arange(10)\n",
        "\t"
      ],
      "execution_count": 0,
      "outputs": []
    },
    {
      "cell_type": "markdown",
      "metadata": {
        "id": "otaj9LxSu-WI",
        "colab_type": "text"
      },
      "source": [
        "select the element at 6th index. Remember first index starts is at 0."
      ]
    },
    {
      "cell_type": "markdown",
      "metadata": {
        "id": "CFWgrWQIvBVY",
        "colab_type": "text"
      },
      "source": [
        "Q. Select the first element"
      ]
    },
    {
      "cell_type": "code",
      "metadata": {
        "id": "ZkYrBqMXvErw",
        "colab_type": "code",
        "colab": {}
      },
      "source": [
        ""
      ],
      "execution_count": 0,
      "outputs": []
    },
    {
      "cell_type": "markdown",
      "metadata": {
        "id": "UHO064eXvH04",
        "colab_type": "text"
      },
      "source": [
        "select from 5th to 7th element. Stop index not included."
      ]
    },
    {
      "cell_type": "code",
      "metadata": {
        "id": "Nsc9swDdu7iA",
        "colab_type": "code",
        "colab": {
          "base_uri": "https://localhost:8080/",
          "height": 34
        },
        "outputId": "a470b2e8-cbfe-4c44-ab68-4545e08dd608"
      },
      "source": [
        "data[5:8]\t\n"
      ],
      "execution_count": 57,
      "outputs": [
        {
          "output_type": "execute_result",
          "data": {
            "text/plain": [
              "array([], shape=(0, 5), dtype=int64)"
            ]
          },
          "metadata": {
            "tags": []
          },
          "execution_count": 57
        }
      ]
    },
    {
      "cell_type": "markdown",
      "metadata": {
        "id": "AjXGTA61vKEQ",
        "colab_type": "text"
      },
      "source": [
        "Indexing & assignment"
      ]
    },
    {
      "cell_type": "code",
      "metadata": {
        "id": "0Oxs71WxvK-I",
        "colab_type": "code",
        "colab": {}
      },
      "source": [
        "data[5:8] = 6\n",
        "data[:] = 0 "
      ],
      "execution_count": 0,
      "outputs": []
    },
    {
      "cell_type": "markdown",
      "metadata": {
        "id": "V09LWScuvQYp",
        "colab_type": "text"
      },
      "source": [
        "## 1.8 Ndarray - Indexing & Slicing - Higher dimension\n"
      ]
    },
    {
      "cell_type": "code",
      "metadata": {
        "id": "NgpQpxlivTpY",
        "colab_type": "code",
        "colab": {}
      },
      "source": [
        "data_2d = np.array([[1, 2, 3], [4, 5, 6], [7, 8, 9]])\n"
      ],
      "execution_count": 0,
      "outputs": []
    },
    {
      "cell_type": "markdown",
      "metadata": {
        "id": "wIr25syNvZKw",
        "colab_type": "text"
      },
      "source": [
        "selects the 3rd row"
      ]
    },
    {
      "cell_type": "code",
      "metadata": {
        "id": "38pECeTZvWGY",
        "colab_type": "code",
        "colab": {
          "base_uri": "https://localhost:8080/",
          "height": 34
        },
        "outputId": "4e38d677-0755-4e57-b091-ef1e20b50d85"
      },
      "source": [
        "data_2d[2] \t\t\t\n"
      ],
      "execution_count": 13,
      "outputs": [
        {
          "output_type": "execute_result",
          "data": {
            "text/plain": [
              "array([7, 8, 9])"
            ]
          },
          "metadata": {
            "tags": []
          },
          "execution_count": 13
        }
      ]
    },
    {
      "cell_type": "markdown",
      "metadata": {
        "id": "xUYOJ0ipviaA",
        "colab_type": "text"
      },
      "source": [
        " select elements with <row, column> indexing format"
      ]
    },
    {
      "cell_type": "code",
      "metadata": {
        "id": "lbTG6fWfvXu_",
        "colab_type": "code",
        "colab": {
          "base_uri": "https://localhost:8080/",
          "height": 34
        },
        "outputId": "2d87f68f-d10d-4e9d-b6a1-11594d77db0c"
      },
      "source": [
        "data_2d[0][2]\t\t\n"
      ],
      "execution_count": 14,
      "outputs": [
        {
          "output_type": "execute_result",
          "data": {
            "text/plain": [
              "3"
            ]
          },
          "metadata": {
            "tags": []
          },
          "execution_count": 14
        }
      ]
    },
    {
      "cell_type": "markdown",
      "metadata": {
        "id": "GkX_q9i1vfHv",
        "colab_type": "text"
      },
      "source": [
        "What will this do?"
      ]
    },
    {
      "cell_type": "code",
      "metadata": {
        "id": "odgrZLNTvl8P",
        "colab_type": "code",
        "colab": {
          "base_uri": "https://localhost:8080/",
          "height": 34
        },
        "outputId": "4f4a3327-ed5d-4022-b716-6612adce957b"
      },
      "source": [
        "data_2d[0, 2] \t\t"
      ],
      "execution_count": 15,
      "outputs": [
        {
          "output_type": "execute_result",
          "data": {
            "text/plain": [
              "3"
            ]
          },
          "metadata": {
            "tags": []
          },
          "execution_count": 15
        }
      ]
    },
    {
      "cell_type": "markdown",
      "metadata": {
        "id": "cBSov53yveIP",
        "colab_type": "text"
      },
      "source": [
        "Another way for indexing"
      ]
    },
    {
      "cell_type": "markdown",
      "metadata": {
        "id": "jN6mVQeBvsMI",
        "colab_type": "text"
      },
      "source": [
        "Slicing: select range of elements\n"
      ]
    },
    {
      "cell_type": "code",
      "metadata": {
        "id": "LaYAYVGxvpMf",
        "colab_type": "code",
        "colab": {
          "base_uri": "https://localhost:8080/",
          "height": 34
        },
        "outputId": "3f6bb6af-6869-484b-d928-f6bb2b731dd4"
      },
      "source": [
        "data_2d[:2] \t\t# slicing along axis 0 (row): select everything above row#3\n",
        "data_2d[1, :2]\t\t# practice in colab\n"
      ],
      "execution_count": 54,
      "outputs": [
        {
          "output_type": "execute_result",
          "data": {
            "text/plain": [
              "array([3, 4])"
            ]
          },
          "metadata": {
            "tags": []
          },
          "execution_count": 54
        }
      ]
    },
    {
      "cell_type": "markdown",
      "metadata": {
        "id": "qzTWfQZqvvJX",
        "colab_type": "text"
      },
      "source": [
        "## 1.8 ndarray - Transposing & Swapping Axes"
      ]
    },
    {
      "cell_type": "code",
      "metadata": {
        "id": "fSWlaeVSvx3Q",
        "colab_type": "code",
        "colab": {}
      },
      "source": [
        "data = np.arange(15).reshape((3, 5))  \n"
      ],
      "execution_count": 0,
      "outputs": []
    },
    {
      "cell_type": "code",
      "metadata": {
        "id": "znrbU5mhv1MP",
        "colab_type": "code",
        "colab": {
          "base_uri": "https://localhost:8080/",
          "height": 102
        },
        "outputId": "985ad4ac-655c-4f97-810e-083297de285e"
      },
      "source": [
        "data.shape \t\t\t\t\t# check in colab\n",
        "data.T \t\t\t\t\t\t# transpose of the original ndarray"
      ],
      "execution_count": 52,
      "outputs": [
        {
          "output_type": "execute_result",
          "data": {
            "text/plain": [
              "array([[ 0,  5, 10],\n",
              "       [ 1,  6, 11],\n",
              "       [ 2,  7, 12],\n",
              "       [ 3,  8, 13],\n",
              "       [ 4,  9, 14]])"
            ]
          },
          "metadata": {
            "tags": []
          },
          "execution_count": 52
        }
      ]
    },
    {
      "cell_type": "markdown",
      "metadata": {
        "id": "zBDoZH07v3cH",
        "colab_type": "text"
      },
      "source": [
        "For high dimension\n"
      ]
    },
    {
      "cell_type": "code",
      "metadata": {
        "id": "pVe3J6T2v4uP",
        "colab_type": "code",
        "colab": {
          "base_uri": "https://localhost:8080/",
          "height": 102
        },
        "outputId": "eb0a7d2c-5cba-4db5-8549-028eb546b669"
      },
      "source": [
        "data_3d = np.arange(16).reshape((2, 2, 4))  # accepts a tuple of axis\n",
        "data_3d.transpose((1, 0, 2))  \n"
      ],
      "execution_count": 53,
      "outputs": [
        {
          "output_type": "execute_result",
          "data": {
            "text/plain": [
              "array([[[ 0,  1,  2,  3],\n",
              "        [ 8,  9, 10, 11]],\n",
              "\n",
              "       [[ 4,  5,  6,  7],\n",
              "        [12, 13, 14, 15]]])"
            ]
          },
          "metadata": {
            "tags": []
          },
          "execution_count": 53
        }
      ]
    },
    {
      "cell_type": "markdown",
      "metadata": {
        "id": "BqQ04sSNv6bg",
        "colab_type": "text"
      },
      "source": [
        "Q. Are you creating a copy or view?\n",
        "\n",
        "Q. Check what .T will do on high dimensional data?\n",
        "\n",
        "Q. Try data_3d.swapaxes(1,2)\n"
      ]
    },
    {
      "cell_type": "code",
      "metadata": {
        "id": "SXhQ3U4Kv-vI",
        "colab_type": "code",
        "colab": {}
      },
      "source": [
        ""
      ],
      "execution_count": 0,
      "outputs": []
    },
    {
      "cell_type": "markdown",
      "metadata": {
        "id": "J6JiTUFqwBl4",
        "colab_type": "text"
      },
      "source": [
        "## 1.9 ndarray - Statistical methods\n"
      ]
    },
    {
      "cell_type": "code",
      "metadata": {
        "id": "KrmHCT_VwDBw",
        "colab_type": "code",
        "colab": {}
      },
      "source": [
        "data = np.random.randn(5, 4) \t\t# normally-distributed data  \n"
      ],
      "execution_count": 0,
      "outputs": []
    },
    {
      "cell_type": "code",
      "metadata": {
        "id": "A8RXmQo_wGWX",
        "colab_type": "code",
        "colab": {
          "base_uri": "https://localhost:8080/",
          "height": 34
        },
        "outputId": "b8c85edf-8610-4d2e-eb27-fcddd4193817"
      },
      "source": [
        "data.mean() \t\t\t\t\t\n",
        "np.mean(data) \t\t\t\t\n"
      ],
      "execution_count": 16,
      "outputs": [
        {
          "output_type": "execute_result",
          "data": {
            "text/plain": [
              "4.5"
            ]
          },
          "metadata": {
            "tags": []
          },
          "execution_count": 16
        }
      ]
    },
    {
      "cell_type": "markdown",
      "metadata": {
        "id": "rKe5RZubwLdT",
        "colab_type": "text"
      },
      "source": [
        "For high dimension data\n",
        "data_2d = np.array([[0, 1, 2], [3, 4, 5], [6, 7, 8]])  \n",
        "data_2d.mean(axis=1) \t\t\t\t# mean over the given axis  \n",
        "data_2d.sum(0) \t\t"
      ]
    },
    {
      "cell_type": "code",
      "metadata": {
        "id": "vi4ZGDWDwGuY",
        "colab_type": "code",
        "colab": {
          "base_uri": "https://localhost:8080/",
          "height": 34
        },
        "outputId": "b74e79c6-6d56-40d0-b15e-714958228d44"
      },
      "source": [
        "data_2d = np.array([[0, 1, 2], [3, 4, 5], [6, 7, 8]])  \n",
        "data_2d.mean(axis=1) \t\t\t\t# mean over the given axis  \n",
        "data_2d.sum(0) \t\t"
      ],
      "execution_count": 17,
      "outputs": [
        {
          "output_type": "execute_result",
          "data": {
            "text/plain": [
              "array([ 9, 12, 15])"
            ]
          },
          "metadata": {
            "tags": []
          },
          "execution_count": 17
        }
      ]
    },
    {
      "cell_type": "markdown",
      "metadata": {
        "id": "iG0f0C6bwPRC",
        "colab_type": "text"
      },
      "source": [
        "## 1.10 ndarray - Unique\n",
        "\n",
        "For 1-D ndarrays. returns the sorted unique values in an array  \n",
        "\n"
      ]
    },
    {
      "cell_type": "code",
      "metadata": {
        "id": "pvZn7bFnwNcw",
        "colab_type": "code",
        "colab": {}
      },
      "source": [
        "data_ints = np.array([3, 3, 3, 2, 2, 1, 1, 4, 4])\n"
      ],
      "execution_count": 0,
      "outputs": []
    },
    {
      "cell_type": "code",
      "metadata": {
        "id": "szfrWpEEwWxY",
        "colab_type": "code",
        "colab": {
          "base_uri": "https://localhost:8080/",
          "height": 34
        },
        "outputId": "9276f86e-8152-4d11-ef99-5b79f05fc61f"
      },
      "source": [
        "np.unique(data_ints) \t\t\t\t# Output: array([1, 2, 3, 4])\n"
      ],
      "execution_count": 19,
      "outputs": [
        {
          "output_type": "execute_result",
          "data": {
            "text/plain": [
              "array([1, 2, 3, 4])"
            ]
          },
          "metadata": {
            "tags": []
          },
          "execution_count": 19
        }
      ]
    },
    {
      "cell_type": "markdown",
      "metadata": {
        "id": "nsztvCpRwcaw",
        "colab_type": "text"
      },
      "source": [
        "# 2 Pandas"
      ]
    },
    {
      "cell_type": "code",
      "metadata": {
        "id": "VUcFdVwcxpQ0",
        "colab_type": "code",
        "colab": {}
      },
      "source": [
        "import pandas as pd"
      ],
      "execution_count": 0,
      "outputs": []
    },
    {
      "cell_type": "markdown",
      "metadata": {
        "id": "rPN_4kEGwgtr",
        "colab_type": "text"
      },
      "source": [
        "## 2.12 Pandas - Data Structures\n",
        "\n",
        "\n",
        "\n",
        "1.   Series\n",
        "2.   Data Frame\n",
        "\n"
      ]
    },
    {
      "cell_type": "code",
      "metadata": {
        "id": "6J47wIIvwaZQ",
        "colab_type": "code",
        "colab": {}
      },
      "source": [
        "ser = pd.Series([4, 5, 10, 3])\n"
      ],
      "execution_count": 0,
      "outputs": []
    },
    {
      "cell_type": "markdown",
      "metadata": {
        "id": "uBIMiFOmwsSS",
        "colab_type": "text"
      },
      "source": [
        " execute in colab & spot difference from ndarray\n"
      ]
    },
    {
      "cell_type": "code",
      "metadata": {
        "id": "Dk8VtfJCwwDY",
        "colab_type": "code",
        "colab": {
          "base_uri": "https://localhost:8080/",
          "height": 102
        },
        "outputId": "83f574da-7b87-4d91-99dd-491c0251afc4"
      },
      "source": [
        "ser \t\t\t\t\t\t\n"
      ],
      "execution_count": 26,
      "outputs": [
        {
          "output_type": "execute_result",
          "data": {
            "text/plain": [
              "0     4\n",
              "1     5\n",
              "2    10\n",
              "3     3\n",
              "dtype: int64"
            ]
          },
          "metadata": {
            "tags": []
          },
          "execution_count": 26
        }
      ]
    },
    {
      "cell_type": "markdown",
      "metadata": {
        "id": "IjMgzY_Aw1T5",
        "colab_type": "text"
      },
      "source": [
        "Q. What difference did you observe?"
      ]
    },
    {
      "cell_type": "code",
      "metadata": {
        "id": "yoVEoVpYwzhI",
        "colab_type": "code",
        "colab": {
          "base_uri": "https://localhost:8080/",
          "height": 34
        },
        "outputId": "34424748-c9e4-4a07-c68d-91a017bb0f2e"
      },
      "source": [
        "ser.values\n"
      ],
      "execution_count": 27,
      "outputs": [
        {
          "output_type": "execute_result",
          "data": {
            "text/plain": [
              "array([ 4,  5, 10,  3])"
            ]
          },
          "metadata": {
            "tags": []
          },
          "execution_count": 27
        }
      ]
    },
    {
      "cell_type": "code",
      "metadata": {
        "id": "MjTqyln2w0xo",
        "colab_type": "code",
        "colab": {
          "base_uri": "https://localhost:8080/",
          "height": 163
        },
        "outputId": "9cab4152-b5e8-4087-fef1-3b3a892b9d04"
      },
      "source": [
        "Ser.index\n"
      ],
      "execution_count": 30,
      "outputs": [
        {
          "output_type": "error",
          "ename": "NameError",
          "evalue": "ignored",
          "traceback": [
            "\u001b[0;31m---------------------------------------------------------------------------\u001b[0m",
            "\u001b[0;31mNameError\u001b[0m                                 Traceback (most recent call last)",
            "\u001b[0;32m<ipython-input-30-2ae49b9c5fd7>\u001b[0m in \u001b[0;36m<module>\u001b[0;34m()\u001b[0m\n\u001b[0;32m----> 1\u001b[0;31m \u001b[0mSer\u001b[0m\u001b[0;34m.\u001b[0m\u001b[0mindex\u001b[0m\u001b[0;34m\u001b[0m\u001b[0;34m\u001b[0m\u001b[0m\n\u001b[0m",
            "\u001b[0;31mNameError\u001b[0m: name 'Ser' is not defined"
          ]
        }
      ]
    },
    {
      "cell_type": "markdown",
      "metadata": {
        "id": "N0h-kuzWxvd8",
        "colab_type": "text"
      },
      "source": [
        "Q. Why the error?"
      ]
    },
    {
      "cell_type": "markdown",
      "metadata": {
        "id": "4v3-Hp55w_gI",
        "colab_type": "text"
      },
      "source": [
        "## 2.13 Pandas - DataFrame\n"
      ]
    },
    {
      "cell_type": "code",
      "metadata": {
        "id": "otCcNWVnxBhg",
        "colab_type": "code",
        "colab": {}
      },
      "source": [
        "data = {'state': ['Ohio', 'Ohio', 'Ohio', 'Nevada', 'Nevada'], 'year': [2000, 2001, 2002, 2001, 2002], 'pop': [1.5, 1.7, 3.6, 2.4, 2.9]}\n"
      ],
      "execution_count": 0,
      "outputs": []
    },
    {
      "cell_type": "code",
      "metadata": {
        "id": "r5pBL7VPxCr4",
        "colab_type": "code",
        "colab": {}
      },
      "source": [
        "df = pd.DataFrame(data)  \n"
      ],
      "execution_count": 0,
      "outputs": []
    },
    {
      "cell_type": "markdown",
      "metadata": {
        "id": "1hvIgXI9xGC4",
        "colab_type": "text"
      },
      "source": [
        "## 2.14 Indexing, Selection, Index dropping\t\n",
        "\n"
      ]
    },
    {
      "cell_type": "code",
      "metadata": {
        "id": "vMFg_NFVxMKA",
        "colab_type": "code",
        "colab": {}
      },
      "source": [
        "obj = pd.Series(np.arange(5.), index=['a', 'b', 'c', 'd', 'e'])\n"
      ],
      "execution_count": 0,
      "outputs": []
    },
    {
      "cell_type": "code",
      "metadata": {
        "id": "9qZhiD4IxO26",
        "colab_type": "code",
        "colab": {
          "base_uri": "https://localhost:8080/",
          "height": 34
        },
        "outputId": "68634817-3039-4271-e478-58cf455ec995"
      },
      "source": [
        "obj['b']  \n"
      ],
      "execution_count": 37,
      "outputs": [
        {
          "output_type": "execute_result",
          "data": {
            "text/plain": [
              "1.0"
            ]
          },
          "metadata": {
            "tags": []
          },
          "execution_count": 37
        }
      ]
    },
    {
      "cell_type": "code",
      "metadata": {
        "id": "dhLhSX51xQpQ",
        "colab_type": "code",
        "colab": {
          "base_uri": "https://localhost:8080/",
          "height": 34
        },
        "outputId": "20e42b28-e5c3-4337-bdf8-1e517c686ec3"
      },
      "source": [
        "obj[1]\n"
      ],
      "execution_count": 39,
      "outputs": [
        {
          "output_type": "execute_result",
          "data": {
            "text/plain": [
              "1.0"
            ]
          },
          "metadata": {
            "tags": []
          },
          "execution_count": 39
        }
      ]
    },
    {
      "cell_type": "markdown",
      "metadata": {
        "id": "d2xbccQMxTjg",
        "colab_type": "text"
      },
      "source": [
        "### Dropping one or more entries from an axis  \n"
      ]
    },
    {
      "cell_type": "code",
      "metadata": {
        "id": "40cD09fJxRCY",
        "colab_type": "code",
        "colab": {
          "base_uri": "https://localhost:8080/",
          "height": 85
        },
        "outputId": "4decd5e1-7572-4b13-ffeb-7796ef4a9489"
      },
      "source": [
        "obj = pd.Series(np.arange(5.), index=['a', 'b', 'c', 'd', 'e'])\n",
        "new_obj =  obj.drop('c')\n",
        "obj.drop(['d', 'c'])\n"
      ],
      "execution_count": 42,
      "outputs": [
        {
          "output_type": "execute_result",
          "data": {
            "text/plain": [
              "a    0.0\n",
              "b    1.0\n",
              "e    4.0\n",
              "dtype: float64"
            ]
          },
          "metadata": {
            "tags": []
          },
          "execution_count": 42
        }
      ]
    },
    {
      "cell_type": "markdown",
      "metadata": {
        "id": "pRLaIxXZxaCo",
        "colab_type": "text"
      },
      "source": [
        "## 2.15 Indexing, Selection, Index dropping -2\t\n",
        "\n",
        "\n",
        "Selection with loc & iloc\n",
        "Select rows & columns using axis labels (loc) or integers (iloc).\n"
      ]
    },
    {
      "cell_type": "code",
      "metadata": {
        "id": "fZxmYlxoxZcJ",
        "colab_type": "code",
        "colab": {
          "base_uri": "https://localhost:8080/",
          "height": 85
        },
        "outputId": "45e121ac-5dd2-4620-ff26-222a0682a7d7"
      },
      "source": [
        "data = pd.DataFrame(np.arange(16).reshape((4, 4)),index=['Ohio', 'Colorado', 'Utah', 'New York'], columns=['one', 'two', 'three', 'four'])  \n",
        "\n",
        "data.iloc[2, [3, 0, 1]]\n"
      ],
      "execution_count": 43,
      "outputs": [
        {
          "output_type": "execute_result",
          "data": {
            "text/plain": [
              "four    11\n",
              "one      8\n",
              "two      9\n",
              "Name: Utah, dtype: int64"
            ]
          },
          "metadata": {
            "tags": []
          },
          "execution_count": 43
        }
      ]
    },
    {
      "cell_type": "code",
      "metadata": {
        "id": "x1PTA-Z6xgnR",
        "colab_type": "code",
        "colab": {
          "base_uri": "https://localhost:8080/",
          "height": 68
        },
        "outputId": "a075c756-8736-4c29-a9fe-9655a3174cbe"
      },
      "source": [
        "data.loc['Colorado', ['two', 'three']]\n"
      ],
      "execution_count": 45,
      "outputs": [
        {
          "output_type": "execute_result",
          "data": {
            "text/plain": [
              "two      5\n",
              "three    6\n",
              "Name: Colorado, dtype: int64"
            ]
          },
          "metadata": {
            "tags": []
          },
          "execution_count": 45
        }
      ]
    },
    {
      "cell_type": "code",
      "metadata": {
        "id": "YsFXkSGDyCkT",
        "colab_type": "code",
        "colab": {
          "base_uri": "https://localhost:8080/",
          "height": 85
        },
        "outputId": "51dfb58e-f794-462c-acf9-c4f2af19bf0b"
      },
      "source": [
        "data.iloc[2, [3, 0, 1]]\n"
      ],
      "execution_count": 44,
      "outputs": [
        {
          "output_type": "execute_result",
          "data": {
            "text/plain": [
              "four    11\n",
              "one      8\n",
              "two      9\n",
              "Name: Utah, dtype: int64"
            ]
          },
          "metadata": {
            "tags": []
          },
          "execution_count": 44
        }
      ]
    },
    {
      "cell_type": "markdown",
      "metadata": {
        "id": "JWNbetRjyGhb",
        "colab_type": "text"
      },
      "source": [
        "## 2.16 Pandas - Descriptive Statistics\n"
      ]
    },
    {
      "cell_type": "code",
      "metadata": {
        "id": "ByJvErzQyDiA",
        "colab_type": "code",
        "colab": {
          "base_uri": "https://localhost:8080/",
          "height": 163
        },
        "outputId": "42236193-48b0-427a-fe16-fc98ddb6cc22"
      },
      "source": [
        "df = DataFrame([[1.4, np.nan], [7.1, -4.5], [np.nan, np.nan], [0.75, -1.3]], index=['a', 'b', 'c', 'd'], columns=['one', 'two'])  \n"
      ],
      "execution_count": 50,
      "outputs": [
        {
          "output_type": "error",
          "ename": "NameError",
          "evalue": "ignored",
          "traceback": [
            "\u001b[0;31m---------------------------------------------------------------------------\u001b[0m",
            "\u001b[0;31mNameError\u001b[0m                                 Traceback (most recent call last)",
            "\u001b[0;32m<ipython-input-50-516e859feed6>\u001b[0m in \u001b[0;36m<module>\u001b[0;34m()\u001b[0m\n\u001b[0;32m----> 1\u001b[0;31m \u001b[0mdf\u001b[0m \u001b[0;34m=\u001b[0m \u001b[0mDataFrame\u001b[0m\u001b[0;34m(\u001b[0m\u001b[0;34m[\u001b[0m\u001b[0;34m[\u001b[0m\u001b[0;36m1.4\u001b[0m\u001b[0;34m,\u001b[0m \u001b[0mnp\u001b[0m\u001b[0;34m.\u001b[0m\u001b[0mnan\u001b[0m\u001b[0;34m]\u001b[0m\u001b[0;34m,\u001b[0m \u001b[0;34m[\u001b[0m\u001b[0;36m7.1\u001b[0m\u001b[0;34m,\u001b[0m \u001b[0;34m-\u001b[0m\u001b[0;36m4.5\u001b[0m\u001b[0;34m]\u001b[0m\u001b[0;34m,\u001b[0m \u001b[0;34m[\u001b[0m\u001b[0mnp\u001b[0m\u001b[0;34m.\u001b[0m\u001b[0mnan\u001b[0m\u001b[0;34m,\u001b[0m \u001b[0mnp\u001b[0m\u001b[0;34m.\u001b[0m\u001b[0mnan\u001b[0m\u001b[0;34m]\u001b[0m\u001b[0;34m,\u001b[0m \u001b[0;34m[\u001b[0m\u001b[0;36m0.75\u001b[0m\u001b[0;34m,\u001b[0m \u001b[0;34m-\u001b[0m\u001b[0;36m1.3\u001b[0m\u001b[0;34m]\u001b[0m\u001b[0;34m]\u001b[0m\u001b[0;34m,\u001b[0m \u001b[0mindex\u001b[0m\u001b[0;34m=\u001b[0m\u001b[0;34m[\u001b[0m\u001b[0;34m'a'\u001b[0m\u001b[0;34m,\u001b[0m \u001b[0;34m'b'\u001b[0m\u001b[0;34m,\u001b[0m \u001b[0;34m'c'\u001b[0m\u001b[0;34m,\u001b[0m \u001b[0;34m'd'\u001b[0m\u001b[0;34m]\u001b[0m\u001b[0;34m,\u001b[0m \u001b[0mcolumns\u001b[0m\u001b[0;34m=\u001b[0m\u001b[0;34m[\u001b[0m\u001b[0;34m'one'\u001b[0m\u001b[0;34m,\u001b[0m \u001b[0;34m'two'\u001b[0m\u001b[0;34m]\u001b[0m\u001b[0;34m)\u001b[0m\u001b[0;34m\u001b[0m\u001b[0;34m\u001b[0m\u001b[0m\n\u001b[0m",
            "\u001b[0;31mNameError\u001b[0m: name 'DataFrame' is not defined"
          ]
        }
      ]
    },
    {
      "cell_type": "markdown",
      "metadata": {
        "id": "s7xeueplyNuw",
        "colab_type": "text"
      },
      "source": [
        "Q. Why the error?"
      ]
    },
    {
      "cell_type": "code",
      "metadata": {
        "id": "DieoqYXgyL-o",
        "colab_type": "code",
        "colab": {
          "base_uri": "https://localhost:8080/",
          "height": 173
        },
        "outputId": "b9fab6db-3170-4cd9-932d-e3307e1a153f"
      },
      "source": [
        "df.sum()  \n",
        "df.head()\n",
        "df.tail()\n"
      ],
      "execution_count": 49,
      "outputs": [
        {
          "output_type": "execute_result",
          "data": {
            "text/html": [
              "<div>\n",
              "<style scoped>\n",
              "    .dataframe tbody tr th:only-of-type {\n",
              "        vertical-align: middle;\n",
              "    }\n",
              "\n",
              "    .dataframe tbody tr th {\n",
              "        vertical-align: top;\n",
              "    }\n",
              "\n",
              "    .dataframe thead th {\n",
              "        text-align: right;\n",
              "    }\n",
              "</style>\n",
              "<table border=\"1\" class=\"dataframe\">\n",
              "  <thead>\n",
              "    <tr style=\"text-align: right;\">\n",
              "      <th></th>\n",
              "      <th>one</th>\n",
              "      <th>two</th>\n",
              "    </tr>\n",
              "  </thead>\n",
              "  <tbody>\n",
              "    <tr>\n",
              "      <th>a</th>\n",
              "      <td>1.40</td>\n",
              "      <td>NaN</td>\n",
              "    </tr>\n",
              "    <tr>\n",
              "      <th>b</th>\n",
              "      <td>7.10</td>\n",
              "      <td>-4.5</td>\n",
              "    </tr>\n",
              "    <tr>\n",
              "      <th>c</th>\n",
              "      <td>NaN</td>\n",
              "      <td>NaN</td>\n",
              "    </tr>\n",
              "    <tr>\n",
              "      <th>d</th>\n",
              "      <td>0.75</td>\n",
              "      <td>-1.3</td>\n",
              "    </tr>\n",
              "  </tbody>\n",
              "</table>\n",
              "</div>"
            ],
            "text/plain": [
              "    one  two\n",
              "a  1.40  NaN\n",
              "b  7.10 -4.5\n",
              "c   NaN  NaN\n",
              "d  0.75 -1.3"
            ]
          },
          "metadata": {
            "tags": []
          },
          "execution_count": 49
        }
      ]
    },
    {
      "cell_type": "code",
      "metadata": {
        "id": "4MuMKTOlyR5A",
        "colab_type": "code",
        "colab": {}
      },
      "source": [
        ""
      ],
      "execution_count": 0,
      "outputs": []
    }
  ]
}