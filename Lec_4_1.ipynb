{
  "nbformat": 4,
  "nbformat_minor": 0,
  "metadata": {
    "colab": {
      "name": "Lec 4_1.ipynb",
      "version": "0.3.2",
      "provenance": [],
      "collapsed_sections": [],
      "include_colab_link": true
    },
    "kernelspec": {
      "name": "python3",
      "display_name": "Python 3"
    }
  },
  "cells": [
    {
      "cell_type": "markdown",
      "metadata": {
        "id": "view-in-github",
        "colab_type": "text"
      },
      "source": [
        "<a href=\"https://colab.research.google.com/github/arbi11/YCBS-272/blob/master/Lec_4_1.ipynb\" target=\"_parent\"><img src=\"https://colab.research.google.com/assets/colab-badge.svg\" alt=\"Open In Colab\"/></a>"
      ]
    },
    {
      "cell_type": "markdown",
      "metadata": {
        "id": "BMrwY0sknn1G",
        "colab_type": "text"
      },
      "source": [
        "# Basic Plots"
      ]
    },
    {
      "cell_type": "code",
      "metadata": {
        "id": "iN3UbRjv08LR",
        "colab_type": "code",
        "colab": {}
      },
      "source": [
        "# Load numpy for math/array operations\n",
        "# and matplotlib for plotting\n",
        "import numpy as np\n",
        "import matplotlib.pyplot as plt"
      ],
      "execution_count": 0,
      "outputs": []
    },
    {
      "cell_type": "markdown",
      "metadata": {
        "id": "LGk61hlK1DvL",
        "colab_type": "text"
      },
      "source": [
        "To get figures in good structure"
      ]
    },
    {
      "cell_type": "code",
      "metadata": {
        "id": "XpwV_fcy0_Zc",
        "colab_type": "code",
        "colab": {}
      },
      "source": [
        "%matplotlib inline\n",
        "# Set up figure size and DPI for screen demo\n",
        "plt.rcParams['figure.figsize'] = (4,3)\n",
        "plt.rcParams['figure.dpi'] = 150"
      ],
      "execution_count": 0,
      "outputs": []
    },
    {
      "cell_type": "markdown",
      "metadata": {
        "id": "GS6I8T7b1Ou8",
        "colab_type": "text"
      },
      "source": [
        "# 1. Basic Line Plot\n"
      ]
    },
    {
      "cell_type": "code",
      "metadata": {
        "id": "BZOtR9JD1Lhs",
        "colab_type": "code",
        "colab": {}
      },
      "source": [
        "xvals = np.arange(0,10,0.1) # generate some data\n"
      ],
      "execution_count": 0,
      "outputs": []
    },
    {
      "cell_type": "markdown",
      "metadata": {
        "id": "gY0OhtUs1hZL",
        "colab_type": "text"
      },
      "source": [
        "# 1.1 Plotting with 2 arguments\n",
        "1 dim for the x-axis and another for y-axis"
      ]
    },
    {
      "cell_type": "code",
      "metadata": {
        "id": "f22N5shI1aIU",
        "colab_type": "code",
        "colab": {}
      },
      "source": [
        "# Plots\n",
        "plt.plot(xvals, np.sin(xvals))\n",
        "\n",
        "plt.xlabel(\"x -axis\")\n",
        "plt.ylabel(\"y- axis\")"
      ],
      "execution_count": 0,
      "outputs": []
    },
    {
      "cell_type": "markdown",
      "metadata": {
        "id": "4qCjg2puxLKe",
        "colab_type": "text"
      },
      "source": [
        "## Q 1.1 Try plotting with x and y axis reversed "
      ]
    },
    {
      "cell_type": "markdown",
      "metadata": {
        "id": "BAUXQk1xxRKj",
        "colab_type": "text"
      },
      "source": [
        ""
      ]
    },
    {
      "cell_type": "markdown",
      "metadata": {
        "id": "CJ5htxBV2KUM",
        "colab_type": "text"
      },
      "source": [
        "## 1.1.1 Call plot multiple times and it will plot multiple times for us\n",
        "\n",
        "on the same set of axis\n",
        "\n",
        "automatically chooses different colors"
      ]
    },
    {
      "cell_type": "code",
      "metadata": {
        "id": "dfVjSnVm1a5D",
        "colab_type": "code",
        "colab": {}
      },
      "source": [
        "plt.plot(xvals, np.sin(xvals))\n",
        "plt.plot(xvals, np.cos(xvals))\n"
      ],
      "execution_count": 0,
      "outputs": []
    },
    {
      "cell_type": "markdown",
      "metadata": {
        "id": "VloO0VBj2wrb",
        "colab_type": "text"
      },
      "source": [
        "## 1.2 Using labels\n",
        "\n",
        "pass a keyword argument 'label'"
      ]
    },
    {
      "cell_type": "code",
      "metadata": {
        "id": "CQeEy6il13MU",
        "colab_type": "code",
        "colab": {}
      },
      "source": [
        "plt.plot(xvals, np.sin(xvals), label = r\"$y = \\sin(x)$\")\n",
        "plt.plot(xvals, np.cos(xvals))\n",
        "plt.xlabel(r\"$x$\")\n",
        "plt.ylabel(r\"$y$\")"
      ],
      "execution_count": 0,
      "outputs": []
    },
    {
      "cell_type": "markdown",
      "metadata": {
        "id": "jXkwvXJp3HG7",
        "colab_type": "text"
      },
      "source": [
        "Nothing happened \n",
        "\n",
        "Add .legend\n",
        "automatically adds those labels for each of the curves"
      ]
    },
    {
      "cell_type": "code",
      "metadata": {
        "id": "cYwYW5_X28vk",
        "colab_type": "code",
        "colab": {}
      },
      "source": [
        "plt.plot(xvals, np.sin(xvals), label = r\"$y = \\sin(x)$\")\n",
        "plt.plot(xvals, np.cos(xvals), label = r\"$y = \\cos(x)$\")\n",
        "plt.legend(loc= 'upper right')\n",
        "plt.xlabel(r\"$x$\")\n",
        "plt.ylabel(r\"$y$\")"
      ],
      "execution_count": 0,
      "outputs": []
    },
    {
      "cell_type": "markdown",
      "metadata": {
        "id": "ouFOqGl-xbWu",
        "colab_type": "text"
      },
      "source": [
        "## Q 1.2 Change the position of label to other parts of the graph.\n",
        "\n",
        "Can you find a shortcode for the position"
      ]
    },
    {
      "cell_type": "markdown",
      "metadata": {
        "id": "mKakY0wp3moU",
        "colab_type": "text"
      },
      "source": [
        "# 1.3 We can also change the attributes of these curves such as \n",
        "\n",
        "color= 'red'"
      ]
    },
    {
      "cell_type": "code",
      "metadata": {
        "id": "ewbhEsfI3VN8",
        "colab_type": "code",
        "colab": {}
      },
      "source": [
        "# Line style\n",
        "plt.plot(xvals, np.sin(xvals), label=r\"$y = \\sin(x)$\", color='red')\n",
        "plt.plot(xvals, np.cos(xvals), label=r\"$y = \\cos(x)$\", color= 'green' )\n",
        "plt.xlabel(\"$x$\")\n",
        "plt.ylabel(r\"$y$\")\n",
        "plt.legend()"
      ],
      "execution_count": 0,
      "outputs": []
    },
    {
      "cell_type": "markdown",
      "metadata": {
        "id": "K5aOSPv734XD",
        "colab_type": "text"
      },
      "source": [
        "You can also use short keywords like\n",
        "\n",
        "r: red\n",
        "g: green\n",
        "\n",
        " *NOT obvious for blue/black; both starts with the same letter*\n",
        " \n"
      ]
    },
    {
      "cell_type": "markdown",
      "metadata": {
        "id": "EIT03kHsxmqx",
        "colab_type": "text"
      },
      "source": [
        "## Q 1.3 Explore other colors"
      ]
    },
    {
      "cell_type": "code",
      "metadata": {
        "id": "UHEpeQ6gxsJN",
        "colab_type": "code",
        "colab": {},
        "cellView": "form"
      },
      "source": [
        "#@title\n"
      ],
      "execution_count": 0,
      "outputs": []
    },
    {
      "cell_type": "markdown",
      "metadata": {
        "id": "VD_pEnoJqwRr",
        "colab_type": "text"
      },
      "source": [
        "# 1.4 Line style\n",
        "which will chage the style of the line used for plotting\n",
        "\n",
        "use 'linestyle' argument"
      ]
    },
    {
      "cell_type": "code",
      "metadata": {
        "id": "mpascIuL3wT7",
        "colab_type": "code",
        "colab": {}
      },
      "source": [
        "plt.plot(xvals, np.cos(xvals), label=r\"$y = \\cos(x)$\", color= 'green' , linestyle='--')\n"
      ],
      "execution_count": 0,
      "outputs": []
    },
    {
      "cell_type": "markdown",
      "metadata": {
        "id": "gpNJMtLI45iL",
        "colab_type": "text"
      },
      "source": [
        "# 1.5 Add other arguments such as marker \n",
        "\n",
        "You can also put markers for the data points visualization"
      ]
    },
    {
      "cell_type": "code",
      "metadata": {
        "id": "mmstkXRm4JD8",
        "colab_type": "code",
        "colab": {}
      },
      "source": [
        "# Line style\n",
        "plt.plot(xvals, np.sin(xvals), label=r\"$y = \\sin(x)$\", color='r')\n",
        "plt.plot(xvals, np.cos(xvals), label=r\"$y = \\cos(x)$\", marker='o')\n",
        "plt.xlabel(\"$x$\")\n",
        "plt.ylabel(r\"$y$\")\n",
        "plt.legend()"
      ],
      "execution_count": 0,
      "outputs": []
    },
    {
      "cell_type": "markdown",
      "metadata": {
        "id": "xPVyPArb5BYM",
        "colab_type": "text"
      },
      "source": [
        ""
      ]
    },
    {
      "cell_type": "code",
      "metadata": {
        "id": "vIC2IiIA5B0w",
        "colab_type": "code",
        "colab": {}
      },
      "source": [
        "# Line style\n",
        "plt.plot(xvals, np.sin(xvals), label=r\"$y = \\sin(x)$\", color='r')\n",
        "plt.plot(xvals, np.cos(xvals), label=r\"$y = \\cos(x)$\", marker='o', linestyle='None')\n",
        "plt.xlabel(\"$x$\")\n",
        "plt.ylabel(r\"$y$\")\n",
        "plt.legend()"
      ],
      "execution_count": 0,
      "outputs": []
    },
    {
      "cell_type": "markdown",
      "metadata": {
        "id": "JouzqeDf5Kvs",
        "colab_type": "text"
      },
      "source": [
        "# 1.6 Using the short code\n",
        "\n",
        "combinig colorstyle and linestyle and marker style"
      ]
    },
    {
      "cell_type": "code",
      "metadata": {
        "id": "GhSiglMB5HBE",
        "colab_type": "code",
        "colab": {}
      },
      "source": [
        "plt.plot(xvals, np.sin(xvals), 'r+--', label=\"$y = \\sin(x)$\")\n",
        "plt.plot(xvals, np.cos(xvals), 'bo', label=r\"$y = \\cos(x)$\")\n",
        "plt.xlabel(\"$x$\")\n",
        "plt.ylabel(r\"$y$\")\n",
        "plt.legend()"
      ],
      "execution_count": 0,
      "outputs": []
    },
    {
      "cell_type": "markdown",
      "metadata": {
        "id": "LPll4g-ws3sX",
        "colab_type": "text"
      },
      "source": [
        "## Q 1.6 Try the line style '-.'"
      ]
    },
    {
      "cell_type": "code",
      "metadata": {
        "id": "H92X4A8Ms9Sb",
        "colab_type": "code",
        "colab": {}
      },
      "source": [
        ""
      ],
      "execution_count": 0,
      "outputs": []
    },
    {
      "cell_type": "markdown",
      "metadata": {
        "id": "8tXAdJzB5tp9",
        "colab_type": "text"
      },
      "source": [
        "# 1.7 Change axis limits"
      ]
    },
    {
      "cell_type": "code",
      "metadata": {
        "id": "Ia5mcFhp5ROU",
        "colab_type": "code",
        "colab": {}
      },
      "source": [
        "plt.plot(xvals, np.sin(xvals), 'r+--', label=r\"$y = \\sin(x)$\")\n",
        "plt.plot(xvals, np.cos(xvals), 'bo', label=r\"$y = \\cos(x)$\")\n",
        "plt.ylim(0, 1)\n",
        "plt.xlabel(\"$x$\")\n",
        "plt.ylabel(r\"$y$\")\n",
        "plt.legend(loc= 'upper right')"
      ],
      "execution_count": 0,
      "outputs": []
    },
    {
      "cell_type": "markdown",
      "metadata": {
        "id": "OjI66K7isvzt",
        "colab_type": "text"
      },
      "source": [
        "## Q 1.7 Change xlim to [0:2]"
      ]
    },
    {
      "cell_type": "code",
      "metadata": {
        "id": "y7moSZoHs1i5",
        "colab_type": "code",
        "colab": {}
      },
      "source": [
        ""
      ],
      "execution_count": 0,
      "outputs": []
    },
    {
      "cell_type": "markdown",
      "metadata": {
        "id": "Gbi17_dZ6X5M",
        "colab_type": "text"
      },
      "source": [
        "# 1.8 Histogram"
      ]
    },
    {
      "cell_type": "code",
      "metadata": {
        "id": "-_eAOaK555Zh",
        "colab_type": "code",
        "colab": {}
      },
      "source": [
        "#Generate 1000 random numbers\n",
        "rands = np.random.normal(size=1000)"
      ],
      "execution_count": 0,
      "outputs": []
    },
    {
      "cell_type": "markdown",
      "metadata": {
        "id": "3WXaQuXC9OCU",
        "colab_type": "text"
      },
      "source": [
        "Since we have choosen a normal distribution it should look like a bell curve"
      ]
    },
    {
      "cell_type": "code",
      "metadata": {
        "id": "qZS5Eo-S9IAr",
        "colab_type": "code",
        "colab": {}
      },
      "source": [
        "plt.hist(rands)"
      ],
      "execution_count": 0,
      "outputs": []
    },
    {
      "cell_type": "markdown",
      "metadata": {
        "id": "LT37okNv9erk",
        "colab_type": "text"
      },
      "source": [
        "Automatically selects bins for u\n",
        "\n",
        "However you can choose the number of bins if you want"
      ]
    },
    {
      "cell_type": "markdown",
      "metadata": {
        "id": "bE73DN1d9UTc",
        "colab_type": "text"
      },
      "source": [
        "# Q 1.8| Add x & y axis labels"
      ]
    },
    {
      "cell_type": "code",
      "metadata": {
        "id": "Pjr9_Msa9L79",
        "colab_type": "code",
        "colab": {}
      },
      "source": [
        ""
      ],
      "execution_count": 0,
      "outputs": []
    },
    {
      "cell_type": "markdown",
      "metadata": {
        "id": "8ccgmBlb9qZV",
        "colab_type": "text"
      },
      "source": [
        ""
      ]
    },
    {
      "cell_type": "markdown",
      "metadata": {
        "id": "YuBDQW9i-BOc",
        "colab_type": "text"
      },
      "source": [
        "# 1.9 3d plot with z axis showing intensity of the plot"
      ]
    },
    {
      "cell_type": "code",
      "metadata": {
        "id": "DBrgIkts9qu5",
        "colab_type": "code",
        "colab": {}
      },
      "source": [
        "#Generate a smoothed, gaussian random field\n",
        "from scipy.ndimage.filters import gaussian_filter\n",
        "rands2d = gaussian_filter(np.random.normal(size=(512,512)), sigma=10)\n",
        "print(rands2d.shape)"
      ],
      "execution_count": 0,
      "outputs": []
    },
    {
      "cell_type": "code",
      "metadata": {
        "id": "L7yZE0Dk9rU0",
        "colab_type": "code",
        "colab": {}
      },
      "source": [
        "plt.imshow(rands2d, cmap='inferno')\n",
        "plt.colorbar()"
      ],
      "execution_count": 0,
      "outputs": []
    },
    {
      "cell_type": "markdown",
      "metadata": {
        "id": "eTMPL4WH_V6s",
        "colab_type": "text"
      },
      "source": [
        "plt.imshow(rands2d, cmap='jet')\n",
        "\n",
        "plt.imshow(rands2d, cmap='magma')\n",
        "\n",
        "\n",
        "plt.imshow(rands2d, cmap='inferno')\n",
        "\n"
      ]
    },
    {
      "cell_type": "markdown",
      "metadata": {
        "id": "6_tx2b8Q-k9v",
        "colab_type": "text"
      },
      "source": [
        "default viridis"
      ]
    },
    {
      "cell_type": "code",
      "metadata": {
        "id": "U36YD05Z9zGc",
        "colab_type": "code",
        "colab": {}
      },
      "source": [
        ""
      ],
      "execution_count": 0,
      "outputs": []
    }
  ]
}