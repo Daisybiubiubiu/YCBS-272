{
  "nbformat": 4,
  "nbformat_minor": 0,
  "metadata": {
    "colab": {
      "name": "Lec 2.ipynb",
      "version": "0.3.2",
      "provenance": [],
      "include_colab_link": true
    },
    "kernelspec": {
      "name": "python3",
      "display_name": "Python 3"
    },
    "accelerator": "GPU"
  },
  "cells": [
    {
      "cell_type": "markdown",
      "metadata": {
        "id": "view-in-github",
        "colab_type": "text"
      },
      "source": [
        "<a href=\"https://colab.research.google.com/github/arbi11/YCBS-272/blob/master/Lec_2_solution.ipynb\" target=\"_parent\"><img src=\"https://colab.research.google.com/assets/colab-badge.svg\" alt=\"Open In Colab\"/></a>"
      ]
    },
    {
      "cell_type": "markdown",
      "metadata": {
        "id": "h3Q4h_WUrKNU",
        "colab_type": "text"
      },
      "source": [
        "# 1. Import the necessary libraries"
      ]
    },
    {
      "cell_type": "code",
      "metadata": {
        "id": "bT6TMOdPY76o",
        "colab_type": "code",
        "colab": {}
      },
      "source": [
        "import numpy as np"
      ],
      "execution_count": 0,
      "outputs": []
    },
    {
      "cell_type": "markdown",
      "metadata": {
        "id": "s3XltIqOrRUn",
        "colab_type": "text"
      },
      "source": [
        "## 1.1 Creating a numpy array"
      ]
    },
    {
      "cell_type": "code",
      "metadata": {
        "id": "Guu4XsqsrZiQ",
        "colab_type": "code",
        "colab": {}
      },
      "source": [
        "data = np.random.rand(2, 4)"
      ],
      "execution_count": 0,
      "outputs": []
    },
    {
      "cell_type": "markdown",
      "metadata": {
        "id": "SCzL8KftrkBg",
        "colab_type": "text"
      },
      "source": [
        "the array can be printed with just mentioning the variable name"
      ]
    },
    {
      "cell_type": "code",
      "metadata": {
        "id": "BCF2EJNgrigY",
        "colab_type": "code",
        "outputId": "d84d2eaf-52eb-40f9-d2a8-ead51ccc7628",
        "colab": {
          "base_uri": "https://localhost:8080/",
          "height": 51
        }
      },
      "source": [
        "data"
      ],
      "execution_count": 3,
      "outputs": [
        {
          "output_type": "execute_result",
          "data": {
            "text/plain": [
              "array([[0.852263  , 0.38289844, 0.34887533, 0.08102405],\n",
              "       [0.74691592, 0.05304594, 0.43137898, 0.43207251]])"
            ]
          },
          "metadata": {
            "tags": []
          },
          "execution_count": 3
        }
      ]
    },
    {
      "cell_type": "markdown",
      "metadata": {
        "id": "bguqaQXhrtdA",
        "colab_type": "text"
      },
      "source": [
        "## Q1.1 Create a variable with size [3, 6]"
      ]
    },
    {
      "cell_type": "code",
      "metadata": {
        "id": "ujnW3f35rtD_",
        "colab_type": "code",
        "colab": {}
      },
      "source": [
        "data = np.random.rand(3, 6)"
      ],
      "execution_count": 0,
      "outputs": []
    },
    {
      "cell_type": "code",
      "metadata": {
        "id": "d7SXBJpQGQOS",
        "colab_type": "code",
        "colab": {
          "base_uri": "https://localhost:8080/",
          "height": 120
        },
        "outputId": "760d3377-fd99-4bce-bdc1-288fe32f8919"
      },
      "source": [
        "data"
      ],
      "execution_count": 5,
      "outputs": [
        {
          "output_type": "execute_result",
          "data": {
            "text/plain": [
              "array([[0.21845961, 0.0360743 , 0.88404217, 0.76070453, 0.92936566,\n",
              "        0.91772636],\n",
              "       [0.75706455, 0.05530078, 0.55762135, 0.70372948, 0.25520796,\n",
              "        0.43015301],\n",
              "       [0.06038419, 0.57908929, 0.33515397, 0.03069733, 0.0413684 ,\n",
              "        0.84951881]])"
            ]
          },
          "metadata": {
            "tags": []
          },
          "execution_count": 5
        }
      ]
    },
    {
      "cell_type": "code",
      "metadata": {
        "id": "O4vHJP-OGSDP",
        "colab_type": "code",
        "colab": {
          "base_uri": "https://localhost:8080/",
          "height": 34
        },
        "outputId": "4b890f0b-285a-49c1-a7c0-c4ad38f31890"
      },
      "source": [
        "data.shape"
      ],
      "execution_count": 6,
      "outputs": [
        {
          "output_type": "execute_result",
          "data": {
            "text/plain": [
              "(3, 6)"
            ]
          },
          "metadata": {
            "tags": []
          },
          "execution_count": 6
        }
      ]
    },
    {
      "cell_type": "code",
      "metadata": {
        "id": "GZXxGGDnGVL6",
        "colab_type": "code",
        "colab": {
          "base_uri": "https://localhost:8080/",
          "height": 34
        },
        "outputId": "35c72396-09ae-40f1-b944-9c92bdb42a04"
      },
      "source": [
        "data.dtype"
      ],
      "execution_count": 7,
      "outputs": [
        {
          "output_type": "execute_result",
          "data": {
            "text/plain": [
              "dtype('float64')"
            ]
          },
          "metadata": {
            "tags": []
          },
          "execution_count": 7
        }
      ]
    },
    {
      "cell_type": "markdown",
      "metadata": {
        "id": "ochQVpXMr3Lw",
        "colab_type": "text"
      },
      "source": [
        "## 1.2 Creating a numpy array from sampling via normal distribution\n",
        "creating an array with random numbers from normal distribution\n",
        "\n",
        "N(mu, sd)\n",
        "\n",
        "\n",
        "numpy samples from N(mu, variance) of N(0, 1)"
      ]
    },
    {
      "cell_type": "code",
      "metadata": {
        "id": "2YpYsek5sA54",
        "colab_type": "code",
        "outputId": "81687c26-ac26-4782-8e0c-d6c68ab84314",
        "colab": {
          "base_uri": "https://localhost:8080/",
          "height": 51
        }
      },
      "source": [
        "data = np.random.randn(2, 4)\n",
        "data"
      ],
      "execution_count": 0,
      "outputs": [
        {
          "output_type": "execute_result",
          "data": {
            "text/plain": [
              "array([[ 0.50342014,  1.28165121,  1.20886991,  0.22903815],\n",
              "       [ 0.22199126,  0.95831356, -1.79270578,  0.6123828 ]])"
            ]
          },
          "metadata": {
            "tags": []
          },
          "execution_count": 7
        }
      ]
    },
    {
      "cell_type": "markdown",
      "metadata": {
        "id": "LWi_ep58stsf",
        "colab_type": "text"
      },
      "source": [
        "## Q 1.2. Create a variable with normal data size [2, 4] with mu = 5 and sd = 2\n",
        "variance = ?"
      ]
    },
    {
      "cell_type": "code",
      "metadata": {
        "id": "Ey1vxugLY9-c",
        "colab_type": "code",
        "colab": {}
      },
      "source": [
        "data_new = 2*np.random.randn(2, 4) + 5"
      ],
      "execution_count": 0,
      "outputs": []
    },
    {
      "cell_type": "code",
      "metadata": {
        "id": "zS-saLgGHhq4",
        "colab_type": "code",
        "colab": {
          "base_uri": "https://localhost:8080/",
          "height": 51
        },
        "outputId": "48e3f83d-0c68-43e8-d33c-6bf48b58fd04"
      },
      "source": [
        "data_new"
      ],
      "execution_count": 9,
      "outputs": [
        {
          "output_type": "execute_result",
          "data": {
            "text/plain": [
              "array([[5.4976978 , 4.94513138, 2.8187206 , 7.19245314],\n",
              "       [4.01373963, 3.01257435, 4.71145203, 2.06134307]])"
            ]
          },
          "metadata": {
            "tags": []
          },
          "execution_count": 9
        }
      ]
    },
    {
      "cell_type": "markdown",
      "metadata": {
        "id": "XUKErezztj5I",
        "colab_type": "text"
      },
      "source": [
        "## 1.3 Data shape"
      ]
    },
    {
      "cell_type": "code",
      "metadata": {
        "id": "I5NUUwNxtmSX",
        "colab_type": "code",
        "outputId": "b547aa11-e636-4ecc-819f-31b4ba63740e",
        "colab": {
          "base_uri": "https://localhost:8080/",
          "height": 34
        }
      },
      "source": [
        "data.shape\n"
      ],
      "execution_count": 10,
      "outputs": [
        {
          "output_type": "execute_result",
          "data": {
            "text/plain": [
              "(3, 6)"
            ]
          },
          "metadata": {
            "tags": []
          },
          "execution_count": 10
        }
      ]
    },
    {
      "cell_type": "markdown",
      "metadata": {
        "id": "cbkldWyNtpUH",
        "colab_type": "text"
      },
      "source": [
        "## 1.4 Data type"
      ]
    },
    {
      "cell_type": "code",
      "metadata": {
        "id": "PPDlzZHbtrfq",
        "colab_type": "code",
        "outputId": "61e4027c-cefd-4231-d0b7-669c57d2b63f",
        "colab": {
          "base_uri": "https://localhost:8080/",
          "height": 34
        }
      },
      "source": [
        "data.dtype \n"
      ],
      "execution_count": 11,
      "outputs": [
        {
          "output_type": "execute_result",
          "data": {
            "text/plain": [
              "dtype('float64')"
            ]
          },
          "metadata": {
            "tags": []
          },
          "execution_count": 11
        }
      ]
    },
    {
      "cell_type": "code",
      "metadata": {
        "id": "0eH7T7rbudAw",
        "colab_type": "code",
        "colab": {}
      },
      "source": [
        "arr = np.array([1, 2, 3, 4, 5])"
      ],
      "execution_count": 0,
      "outputs": []
    },
    {
      "cell_type": "code",
      "metadata": {
        "id": "tPxKktr-ue3A",
        "colab_type": "code",
        "colab": {
          "base_uri": "https://localhost:8080/",
          "height": 34
        },
        "outputId": "fc4cff15-8b28-4914-d92c-9d0d4ae55562"
      },
      "source": [
        "arr.dtype"
      ],
      "execution_count": 13,
      "outputs": [
        {
          "output_type": "execute_result",
          "data": {
            "text/plain": [
              "dtype('int64')"
            ]
          },
          "metadata": {
            "tags": []
          },
          "execution_count": 13
        }
      ]
    },
    {
      "cell_type": "code",
      "metadata": {
        "id": "lnBwwSf0ugRo",
        "colab_type": "code",
        "colab": {}
      },
      "source": [
        "arr = np.array([3.7, -1.2, -2.6, 0.5, 12.9, 10.1], dtype= np.float32)"
      ],
      "execution_count": 0,
      "outputs": []
    },
    {
      "cell_type": "code",
      "metadata": {
        "id": "UktI35YiuhyY",
        "colab_type": "code",
        "colab": {
          "base_uri": "https://localhost:8080/",
          "height": 34
        },
        "outputId": "32f2584d-88c2-41e8-ab7a-c80e35d3b743"
      },
      "source": [
        "arr.dtype"
      ],
      "execution_count": 15,
      "outputs": [
        {
          "output_type": "execute_result",
          "data": {
            "text/plain": [
              "dtype('float32')"
            ]
          },
          "metadata": {
            "tags": []
          },
          "execution_count": 15
        }
      ]
    },
    {
      "cell_type": "markdown",
      "metadata": {
        "id": "jzDKepDnuttQ",
        "colab_type": "text"
      },
      "source": [
        "### 1.4.1 integers were cast to floating point. If I cast some floating point numbers to be of integer dtype, the decimal part will be truncated"
      ]
    },
    {
      "cell_type": "code",
      "metadata": {
        "id": "-2hP-Xp1ujjw",
        "colab_type": "code",
        "colab": {}
      },
      "source": [
        "arr2 = arr.astype(np.int32)"
      ],
      "execution_count": 0,
      "outputs": []
    },
    {
      "cell_type": "code",
      "metadata": {
        "id": "PsvsWnQPILQf",
        "colab_type": "code",
        "colab": {
          "base_uri": "https://localhost:8080/",
          "height": 34
        },
        "outputId": "dcef4f5e-dea6-411b-85e6-a1b2c0f18638"
      },
      "source": [
        "arr2"
      ],
      "execution_count": 17,
      "outputs": [
        {
          "output_type": "execute_result",
          "data": {
            "text/plain": [
              "array([ 3, -1, -2,  0, 12, 10], dtype=int32)"
            ]
          },
          "metadata": {
            "tags": []
          },
          "execution_count": 17
        }
      ]
    },
    {
      "cell_type": "code",
      "metadata": {
        "id": "kAmjxLyvulQI",
        "colab_type": "code",
        "colab": {}
      },
      "source": [
        "arr3 = arr2.astype(float)"
      ],
      "execution_count": 0,
      "outputs": []
    },
    {
      "cell_type": "code",
      "metadata": {
        "id": "k9lZVZ1mIUNa",
        "colab_type": "code",
        "colab": {
          "base_uri": "https://localhost:8080/",
          "height": 34
        },
        "outputId": "4f9f4083-6a97-477d-9d32-054ca62cacae"
      },
      "source": [
        "arr3"
      ],
      "execution_count": 19,
      "outputs": [
        {
          "output_type": "execute_result",
          "data": {
            "text/plain": [
              "array([ 3., -1., -2.,  0., 12., 10.])"
            ]
          },
          "metadata": {
            "tags": []
          },
          "execution_count": 19
        }
      ]
    },
    {
      "cell_type": "code",
      "metadata": {
        "id": "UjQDuKzlumjA",
        "colab_type": "code",
        "colab": {
          "base_uri": "https://localhost:8080/",
          "height": 34
        },
        "outputId": "884deeb4-6286-484e-e12e-9a67684a76be"
      },
      "source": [
        "arr3.dtype"
      ],
      "execution_count": 20,
      "outputs": [
        {
          "output_type": "execute_result",
          "data": {
            "text/plain": [
              "dtype('float64')"
            ]
          },
          "metadata": {
            "tags": []
          },
          "execution_count": 20
        }
      ]
    },
    {
      "cell_type": "markdown",
      "metadata": {
        "id": "9uFZDaQ4TLLo",
        "colab_type": "text"
      },
      "source": [
        "## 1.5 Perform mathematical operations on whole blocks of data"
      ]
    },
    {
      "cell_type": "code",
      "metadata": {
        "id": "-xn_yexiTGKJ",
        "colab_type": "code",
        "outputId": "b3eb0a1a-a06a-445f-8f23-1f0148a74c51",
        "colab": {
          "base_uri": "https://localhost:8080/",
          "height": 34
        }
      },
      "source": [
        "arr3*2"
      ],
      "execution_count": 22,
      "outputs": [
        {
          "output_type": "execute_result",
          "data": {
            "text/plain": [
              "array([ 6., -2., -4.,  0., 24., 20.])"
            ]
          },
          "metadata": {
            "tags": []
          },
          "execution_count": 22
        }
      ]
    },
    {
      "cell_type": "code",
      "metadata": {
        "id": "nvfJnZAKZC4j",
        "colab_type": "code",
        "outputId": "87930431-8cc4-4e0d-cdf7-194dad151372",
        "colab": {
          "base_uri": "https://localhost:8080/",
          "height": 34
        }
      },
      "source": [
        "arr3+arr2"
      ],
      "execution_count": 23,
      "outputs": [
        {
          "output_type": "execute_result",
          "data": {
            "text/plain": [
              "array([ 6., -2., -4.,  0., 24., 20.])"
            ]
          },
          "metadata": {
            "tags": []
          },
          "execution_count": 23
        }
      ]
    },
    {
      "cell_type": "code",
      "metadata": {
        "id": "TYlxPwg1uOgg",
        "colab_type": "code",
        "outputId": "1f87a7c3-5762-4c31-b207-21c312cb012b",
        "colab": {
          "base_uri": "https://localhost:8080/",
          "height": 120
        }
      },
      "source": [
        "1/data"
      ],
      "execution_count": 25,
      "outputs": [
        {
          "output_type": "execute_result",
          "data": {
            "text/plain": [
              "array([[ 4.57750519, 27.72056732,  1.13116776,  1.31457084,  1.07600274,\n",
              "         1.08964942],\n",
              "       [ 1.32089133, 18.08292857,  1.79333164,  1.42100058,  3.9183731 ,\n",
              "         2.32475416],\n",
              "       [16.56062665,  1.72684941,  2.9837033 , 32.57612166, 24.17303781,\n",
              "         1.17713697]])"
            ]
          },
          "metadata": {
            "tags": []
          },
          "execution_count": 25
        }
      ]
    },
    {
      "cell_type": "code",
      "metadata": {
        "id": "N82J3D-tR8Uc",
        "colab_type": "code",
        "outputId": "3acffa5d-e2a7-45cb-a793-db21c2f04607",
        "colab": {
          "base_uri": "https://localhost:8080/",
          "height": 34
        }
      },
      "source": [
        "data.shape"
      ],
      "execution_count": 27,
      "outputs": [
        {
          "output_type": "execute_result",
          "data": {
            "text/plain": [
              "(3, 6)"
            ]
          },
          "metadata": {
            "tags": []
          },
          "execution_count": 27
        }
      ]
    },
    {
      "cell_type": "code",
      "metadata": {
        "id": "gHfSlaReUx6p",
        "colab_type": "code",
        "outputId": "cc79e0f5-cc4a-4d93-b36b-32cd9cf72420",
        "colab": {
          "base_uri": "https://localhost:8080/",
          "height": 34
        }
      },
      "source": [
        "data.dtype"
      ],
      "execution_count": 0,
      "outputs": [
        {
          "output_type": "execute_result",
          "data": {
            "text/plain": [
              "dtype('int64')"
            ]
          },
          "metadata": {
            "tags": []
          },
          "execution_count": 59
        }
      ]
    },
    {
      "cell_type": "code",
      "metadata": {
        "id": "xJim4tvKJQU5",
        "colab_type": "code",
        "colab": {
          "base_uri": "https://localhost:8080/",
          "height": 120
        },
        "outputId": "25cd7758-2109-49d6-9b53-660d8a3a89eb"
      },
      "source": [
        "data"
      ],
      "execution_count": 28,
      "outputs": [
        {
          "output_type": "execute_result",
          "data": {
            "text/plain": [
              "array([[0.21845961, 0.0360743 , 0.88404217, 0.76070453, 0.92936566,\n",
              "        0.91772636],\n",
              "       [0.75706455, 0.05530078, 0.55762135, 0.70372948, 0.25520796,\n",
              "        0.43015301],\n",
              "       [0.06038419, 0.57908929, 0.33515397, 0.03069733, 0.0413684 ,\n",
              "        0.84951881]])"
            ]
          },
          "metadata": {
            "tags": []
          },
          "execution_count": 28
        }
      ]
    },
    {
      "cell_type": "markdown",
      "metadata": {
        "id": "em9evCJEuQzH",
        "colab_type": "text"
      },
      "source": [
        "## Q 1.5. How to provide a copy of the data rather than just a view"
      ]
    },
    {
      "cell_type": "code",
      "metadata": {
        "id": "7WBoEXxfuZYI",
        "colab_type": "code",
        "colab": {}
      },
      "source": [
        "data2 = data.copy()"
      ],
      "execution_count": 0,
      "outputs": []
    },
    {
      "cell_type": "markdown",
      "metadata": {
        "id": "Eye3AaBNXkAw",
        "colab_type": "text"
      },
      "source": [
        "integers were cast to floating point. If I cast some floating point numbers to be of integer dtype, the decimal part will be truncated"
      ]
    },
    {
      "cell_type": "markdown",
      "metadata": {
        "id": "Zqmcgpy8u1kQ",
        "colab_type": "text"
      },
      "source": [
        "## 1.6 Indexing & Slicing - 1D"
      ]
    },
    {
      "cell_type": "code",
      "metadata": {
        "id": "pPLFqcnkuyjA",
        "colab_type": "code",
        "colab": {
          "base_uri": "https://localhost:8080/",
          "height": 34
        },
        "outputId": "7b978003-073c-41b8-caf3-9d69ddca4568"
      },
      "source": [
        "data = np.arange(10)\n",
        "data"
      ],
      "execution_count": 80,
      "outputs": [
        {
          "output_type": "execute_result",
          "data": {
            "text/plain": [
              "array([0, 1, 2, 3, 4, 5, 6, 7, 8, 9])"
            ]
          },
          "metadata": {
            "tags": []
          },
          "execution_count": 80
        }
      ]
    },
    {
      "cell_type": "markdown",
      "metadata": {
        "id": "otaj9LxSu-WI",
        "colab_type": "text"
      },
      "source": [
        "select the element at 6th index. Remember first index starts is at 0."
      ]
    },
    {
      "cell_type": "markdown",
      "metadata": {
        "id": "CFWgrWQIvBVY",
        "colab_type": "text"
      },
      "source": [
        "## Q. 1.6 Select the first element"
      ]
    },
    {
      "cell_type": "code",
      "metadata": {
        "id": "ZkYrBqMXvErw",
        "colab_type": "code",
        "colab": {
          "base_uri": "https://localhost:8080/",
          "height": 34
        },
        "outputId": "2e2d33e2-6e97-4953-eb08-c01e6477ee4d"
      },
      "source": [
        "data[0]"
      ],
      "execution_count": 31,
      "outputs": [
        {
          "output_type": "execute_result",
          "data": {
            "text/plain": [
              "0"
            ]
          },
          "metadata": {
            "tags": []
          },
          "execution_count": 31
        }
      ]
    },
    {
      "cell_type": "markdown",
      "metadata": {
        "id": "UHO064eXvH04",
        "colab_type": "text"
      },
      "source": [
        "select from 5th to 7th element. Stop index not included."
      ]
    },
    {
      "cell_type": "code",
      "metadata": {
        "id": "Nsc9swDdu7iA",
        "colab_type": "code",
        "outputId": "899c822c-51e9-4e30-9fa5-0c00a1f08987",
        "colab": {
          "base_uri": "https://localhost:8080/",
          "height": 34
        }
      },
      "source": [
        "data[5:8]\t\n"
      ],
      "execution_count": 32,
      "outputs": [
        {
          "output_type": "execute_result",
          "data": {
            "text/plain": [
              "array([5, 6, 7])"
            ]
          },
          "metadata": {
            "tags": []
          },
          "execution_count": 32
        }
      ]
    },
    {
      "cell_type": "markdown",
      "metadata": {
        "id": "AjXGTA61vKEQ",
        "colab_type": "text"
      },
      "source": [
        "Indexing & assignment"
      ]
    },
    {
      "cell_type": "code",
      "metadata": {
        "id": "0Oxs71WxvK-I",
        "colab_type": "code",
        "colab": {
          "base_uri": "https://localhost:8080/",
          "height": 34
        },
        "outputId": "80f04beb-d353-47e9-b1a8-7edfe625ec6b"
      },
      "source": [
        "data[5:8] = 6\n",
        "data"
      ],
      "execution_count": 34,
      "outputs": [
        {
          "output_type": "execute_result",
          "data": {
            "text/plain": [
              "array([0, 1, 2, 3, 4, 6, 6, 6, 8, 9])"
            ]
          },
          "metadata": {
            "tags": []
          },
          "execution_count": 34
        }
      ]
    },
    {
      "cell_type": "code",
      "metadata": {
        "id": "wc0Sz5btOFZ3",
        "colab_type": "code",
        "colab": {
          "base_uri": "https://localhost:8080/",
          "height": 34
        },
        "outputId": "bdbc73ab-310e-44f7-9c67-a0d57177e083"
      },
      "source": [
        "data[:] = 0 \n",
        "data"
      ],
      "execution_count": 35,
      "outputs": [
        {
          "output_type": "execute_result",
          "data": {
            "text/plain": [
              "array([0, 0, 0, 0, 0, 0, 0, 0, 0, 0])"
            ]
          },
          "metadata": {
            "tags": []
          },
          "execution_count": 35
        }
      ]
    },
    {
      "cell_type": "markdown",
      "metadata": {
        "id": "V09LWScuvQYp",
        "colab_type": "text"
      },
      "source": [
        "## 1.8 Ndarray - Indexing & Slicing - Higher dimension\n"
      ]
    },
    {
      "cell_type": "code",
      "metadata": {
        "id": "NgpQpxlivTpY",
        "colab_type": "code",
        "colab": {
          "base_uri": "https://localhost:8080/",
          "height": 68
        },
        "outputId": "187a726d-f50a-45cb-f69c-8d18fb08b2de"
      },
      "source": [
        "data_2d = np.array([[1, 2, 3], [4, 5, 6], [7, 8, 9]])\n",
        "data_2d"
      ],
      "execution_count": 43,
      "outputs": [
        {
          "output_type": "execute_result",
          "data": {
            "text/plain": [
              "array([[1, 2, 3],\n",
              "       [4, 5, 6],\n",
              "       [7, 8, 9]])"
            ]
          },
          "metadata": {
            "tags": []
          },
          "execution_count": 43
        }
      ]
    },
    {
      "cell_type": "markdown",
      "metadata": {
        "id": "wIr25syNvZKw",
        "colab_type": "text"
      },
      "source": [
        "selects the 3rd row"
      ]
    },
    {
      "cell_type": "code",
      "metadata": {
        "id": "38pECeTZvWGY",
        "colab_type": "code",
        "outputId": "40c04952-dd54-4b0c-89c8-ef244523d002",
        "colab": {
          "base_uri": "https://localhost:8080/",
          "height": 34
        }
      },
      "source": [
        "data_2d[2] \t\t\t\n"
      ],
      "execution_count": 37,
      "outputs": [
        {
          "output_type": "execute_result",
          "data": {
            "text/plain": [
              "array([7, 8, 9])"
            ]
          },
          "metadata": {
            "tags": []
          },
          "execution_count": 37
        }
      ]
    },
    {
      "cell_type": "markdown",
      "metadata": {
        "id": "xUYOJ0ipviaA",
        "colab_type": "text"
      },
      "source": [
        " select elements with <row, column> indexing format"
      ]
    },
    {
      "cell_type": "code",
      "metadata": {
        "id": "lbTG6fWfvXu_",
        "colab_type": "code",
        "outputId": "59a0461d-c210-493a-c01c-bb676867fb1a",
        "colab": {
          "base_uri": "https://localhost:8080/",
          "height": 34
        }
      },
      "source": [
        "data_2d[0][2]\t\t\n"
      ],
      "execution_count": 38,
      "outputs": [
        {
          "output_type": "execute_result",
          "data": {
            "text/plain": [
              "3"
            ]
          },
          "metadata": {
            "tags": []
          },
          "execution_count": 38
        }
      ]
    },
    {
      "cell_type": "markdown",
      "metadata": {
        "id": "GkX_q9i1vfHv",
        "colab_type": "text"
      },
      "source": [
        "What will this do?"
      ]
    },
    {
      "cell_type": "code",
      "metadata": {
        "id": "odgrZLNTvl8P",
        "colab_type": "code",
        "outputId": "33b01df6-bd9e-46ca-affa-d0f1193ff123",
        "colab": {
          "base_uri": "https://localhost:8080/",
          "height": 34
        }
      },
      "source": [
        "data_2d[0, 2] \t\t"
      ],
      "execution_count": 39,
      "outputs": [
        {
          "output_type": "execute_result",
          "data": {
            "text/plain": [
              "3"
            ]
          },
          "metadata": {
            "tags": []
          },
          "execution_count": 39
        }
      ]
    },
    {
      "cell_type": "markdown",
      "metadata": {
        "id": "cBSov53yveIP",
        "colab_type": "text"
      },
      "source": [
        "Another way for indexing"
      ]
    },
    {
      "cell_type": "markdown",
      "metadata": {
        "id": "jN6mVQeBvsMI",
        "colab_type": "text"
      },
      "source": [
        "Slicing: select range of elements\n"
      ]
    },
    {
      "cell_type": "code",
      "metadata": {
        "id": "LaYAYVGxvpMf",
        "colab_type": "code",
        "outputId": "7be6f9c8-a689-4c97-c05a-7e26fe0e29a3",
        "colab": {
          "base_uri": "https://localhost:8080/",
          "height": 51
        }
      },
      "source": [
        "data_2d[:2] \t\t# slicing along axis 0 (row): select everything above row#3\n"
      ],
      "execution_count": 40,
      "outputs": [
        {
          "output_type": "execute_result",
          "data": {
            "text/plain": [
              "array([[1, 2, 3],\n",
              "       [4, 5, 6]])"
            ]
          },
          "metadata": {
            "tags": []
          },
          "execution_count": 40
        }
      ]
    },
    {
      "cell_type": "code",
      "metadata": {
        "id": "sZEAxCMQRfV-",
        "colab_type": "code",
        "colab": {
          "base_uri": "https://localhost:8080/",
          "height": 68
        },
        "outputId": "2ae06aa3-d8d9-4850-cc2e-eba55b3b8ce3"
      },
      "source": [
        "data_2d"
      ],
      "execution_count": 81,
      "outputs": [
        {
          "output_type": "execute_result",
          "data": {
            "text/plain": [
              "array([[0, 1, 2],\n",
              "       [3, 4, 5],\n",
              "       [6, 7, 8]])"
            ]
          },
          "metadata": {
            "tags": []
          },
          "execution_count": 81
        }
      ]
    },
    {
      "cell_type": "code",
      "metadata": {
        "id": "GF9qpIgCOSb4",
        "colab_type": "code",
        "colab": {
          "base_uri": "https://localhost:8080/",
          "height": 34
        },
        "outputId": "67eec0dd-707a-4183-d10e-21f522d00043"
      },
      "source": [
        "data_2d[1, :2]\t\t# practice in colab\n"
      ],
      "execution_count": 82,
      "outputs": [
        {
          "output_type": "execute_result",
          "data": {
            "text/plain": [
              "array([3, 4])"
            ]
          },
          "metadata": {
            "tags": []
          },
          "execution_count": 82
        }
      ]
    },
    {
      "cell_type": "code",
      "metadata": {
        "id": "K86EM1buOVLb",
        "colab_type": "code",
        "colab": {
          "base_uri": "https://localhost:8080/",
          "height": 34
        },
        "outputId": "7632994c-5b6d-43c7-f56e-13fbc0238936"
      },
      "source": [
        "data_2d[:, -1]"
      ],
      "execution_count": 83,
      "outputs": [
        {
          "output_type": "execute_result",
          "data": {
            "text/plain": [
              "array([2, 5, 8])"
            ]
          },
          "metadata": {
            "tags": []
          },
          "execution_count": 83
        }
      ]
    },
    {
      "cell_type": "markdown",
      "metadata": {
        "id": "qzTWfQZqvvJX",
        "colab_type": "text"
      },
      "source": [
        "## 1.8 ndarray - Transposing & Swapping Axes"
      ]
    },
    {
      "cell_type": "code",
      "metadata": {
        "id": "XqiF9N4OOfjG",
        "colab_type": "code",
        "colab": {
          "base_uri": "https://localhost:8080/",
          "height": 34
        },
        "outputId": "186fe474-deca-43be-a352-34719f6f7399"
      },
      "source": [
        "data = np.arange(15)\n",
        "data"
      ],
      "execution_count": 84,
      "outputs": [
        {
          "output_type": "execute_result",
          "data": {
            "text/plain": [
              "array([ 0,  1,  2,  3,  4,  5,  6,  7,  8,  9, 10, 11, 12, 13, 14])"
            ]
          },
          "metadata": {
            "tags": []
          },
          "execution_count": 84
        }
      ]
    },
    {
      "cell_type": "code",
      "metadata": {
        "id": "fSWlaeVSvx3Q",
        "colab_type": "code",
        "colab": {
          "base_uri": "https://localhost:8080/",
          "height": 68
        },
        "outputId": "e09ca1c4-34f0-476f-a1a3-a2ffe53569c2"
      },
      "source": [
        "data = np.arange(15).reshape((3, 5))  \n",
        "data"
      ],
      "execution_count": 86,
      "outputs": [
        {
          "output_type": "execute_result",
          "data": {
            "text/plain": [
              "array([[ 0,  1,  2,  3,  4],\n",
              "       [ 5,  6,  7,  8,  9],\n",
              "       [10, 11, 12, 13, 14]])"
            ]
          },
          "metadata": {
            "tags": []
          },
          "execution_count": 86
        }
      ]
    },
    {
      "cell_type": "code",
      "metadata": {
        "id": "znrbU5mhv1MP",
        "colab_type": "code",
        "outputId": "a6dd5f35-719c-4a9d-b726-8d8f458dfd72",
        "colab": {
          "base_uri": "https://localhost:8080/",
          "height": 34
        }
      },
      "source": [
        "data.shape \t\t\t\t\t# check in colab\n"
      ],
      "execution_count": 87,
      "outputs": [
        {
          "output_type": "execute_result",
          "data": {
            "text/plain": [
              "(3, 5)"
            ]
          },
          "metadata": {
            "tags": []
          },
          "execution_count": 87
        }
      ]
    },
    {
      "cell_type": "code",
      "metadata": {
        "id": "CPBX__uSOnH9",
        "colab_type": "code",
        "colab": {
          "base_uri": "https://localhost:8080/",
          "height": 103
        },
        "outputId": "0860ab8d-4726-483c-fca2-2deb71707f7e"
      },
      "source": [
        "data.T \t\t\t\t\t\t# transpose of the original ndarray"
      ],
      "execution_count": 51,
      "outputs": [
        {
          "output_type": "execute_result",
          "data": {
            "text/plain": [
              "array([[ 0,  5, 10],\n",
              "       [ 1,  6, 11],\n",
              "       [ 2,  7, 12],\n",
              "       [ 3,  8, 13],\n",
              "       [ 4,  9, 14]])"
            ]
          },
          "metadata": {
            "tags": []
          },
          "execution_count": 51
        }
      ]
    },
    {
      "cell_type": "code",
      "metadata": {
        "id": "jllFT9dCOr_j",
        "colab_type": "code",
        "colab": {
          "base_uri": "https://localhost:8080/",
          "height": 34
        },
        "outputId": "c4b4114d-cc41-47da-b6b4-deb1d9d0471b"
      },
      "source": [
        "data.T.shape"
      ],
      "execution_count": 53,
      "outputs": [
        {
          "output_type": "execute_result",
          "data": {
            "text/plain": [
              "(5, 3)"
            ]
          },
          "metadata": {
            "tags": []
          },
          "execution_count": 53
        }
      ]
    },
    {
      "cell_type": "markdown",
      "metadata": {
        "id": "zBDoZH07v3cH",
        "colab_type": "text"
      },
      "source": [
        "For high dimension\n"
      ]
    },
    {
      "cell_type": "code",
      "metadata": {
        "id": "pVe3J6T2v4uP",
        "colab_type": "code",
        "outputId": "e2845305-45a7-407e-90cd-3a5a4b97fb60",
        "colab": {
          "base_uri": "https://localhost:8080/",
          "height": 137
        }
      },
      "source": [
        "data_3d = np.arange(24).reshape((2, 3, 4))  # accepts a tuple of axis\n",
        "data_3d"
      ],
      "execution_count": 99,
      "outputs": [
        {
          "output_type": "execute_result",
          "data": {
            "text/plain": [
              "array([[[ 0,  1,  2,  3],\n",
              "        [ 4,  5,  6,  7],\n",
              "        [ 8,  9, 10, 11]],\n",
              "\n",
              "       [[12, 13, 14, 15],\n",
              "        [16, 17, 18, 19],\n",
              "        [20, 21, 22, 23]]])"
            ]
          },
          "metadata": {
            "tags": []
          },
          "execution_count": 99
        }
      ]
    },
    {
      "cell_type": "code",
      "metadata": {
        "id": "6aAUX72nPHpu",
        "colab_type": "code",
        "colab": {
          "base_uri": "https://localhost:8080/",
          "height": 34
        },
        "outputId": "cbf324dd-3950-40d5-d7ff-6a61a93b7f65"
      },
      "source": [
        "data_3d.shape"
      ],
      "execution_count": 100,
      "outputs": [
        {
          "output_type": "execute_result",
          "data": {
            "text/plain": [
              "(2, 3, 4)"
            ]
          },
          "metadata": {
            "tags": []
          },
          "execution_count": 100
        }
      ]
    },
    {
      "cell_type": "code",
      "metadata": {
        "id": "B7F53BzIO2c4",
        "colab_type": "code",
        "colab": {
          "base_uri": "https://localhost:8080/",
          "height": 34
        },
        "outputId": "85b96e59-a65b-4b01-c354-c9af1fe9de97"
      },
      "source": [
        "data_3d_new = data_3d.transpose((1, 0, 2)).copy()\n",
        "data_3d_new.shape"
      ],
      "execution_count": 101,
      "outputs": [
        {
          "output_type": "execute_result",
          "data": {
            "text/plain": [
              "(3, 2, 4)"
            ]
          },
          "metadata": {
            "tags": []
          },
          "execution_count": 101
        }
      ]
    },
    {
      "cell_type": "code",
      "metadata": {
        "id": "1iap6QBzS4aH",
        "colab_type": "code",
        "colab": {}
      },
      "source": [
        "data_3d[0, 0] = 10"
      ],
      "execution_count": 0,
      "outputs": []
    },
    {
      "cell_type": "code",
      "metadata": {
        "id": "hYlWbRtNS8Tw",
        "colab_type": "code",
        "colab": {
          "base_uri": "https://localhost:8080/",
          "height": 154
        },
        "outputId": "c428f355-3594-40b7-a126-29c1f66c055a"
      },
      "source": [
        "data_3d_new"
      ],
      "execution_count": 103,
      "outputs": [
        {
          "output_type": "execute_result",
          "data": {
            "text/plain": [
              "array([[[ 0,  1,  2,  3],\n",
              "        [12, 13, 14, 15]],\n",
              "\n",
              "       [[ 4,  5,  6,  7],\n",
              "        [16, 17, 18, 19]],\n",
              "\n",
              "       [[ 8,  9, 10, 11],\n",
              "        [20, 21, 22, 23]]])"
            ]
          },
          "metadata": {
            "tags": []
          },
          "execution_count": 103
        }
      ]
    },
    {
      "cell_type": "code",
      "metadata": {
        "id": "IMYoxXwrTBKm",
        "colab_type": "code",
        "colab": {
          "base_uri": "https://localhost:8080/",
          "height": 137
        },
        "outputId": "c86122c4-4ce8-4dea-e998-6f35ca850421"
      },
      "source": [
        "data_3d"
      ],
      "execution_count": 104,
      "outputs": [
        {
          "output_type": "execute_result",
          "data": {
            "text/plain": [
              "array([[[10, 10, 10, 10],\n",
              "        [ 4,  5,  6,  7],\n",
              "        [ 8,  9, 10, 11]],\n",
              "\n",
              "       [[12, 13, 14, 15],\n",
              "        [16, 17, 18, 19],\n",
              "        [20, 21, 22, 23]]])"
            ]
          },
          "metadata": {
            "tags": []
          },
          "execution_count": 104
        }
      ]
    },
    {
      "cell_type": "code",
      "metadata": {
        "id": "xKR9POgLO6cl",
        "colab_type": "code",
        "colab": {
          "base_uri": "https://localhost:8080/",
          "height": 34
        },
        "outputId": "6e6335a0-c164-4493-c62a-121c7fe333a2"
      },
      "source": [
        "data_3d.transpose((1, 0, 2)).shape\n"
      ],
      "execution_count": 89,
      "outputs": [
        {
          "output_type": "execute_result",
          "data": {
            "text/plain": [
              "(3, 2, 4)"
            ]
          },
          "metadata": {
            "tags": []
          },
          "execution_count": 89
        }
      ]
    },
    {
      "cell_type": "code",
      "metadata": {
        "id": "_ArkJa3cSkZM",
        "colab_type": "code",
        "colab": {
          "base_uri": "https://localhost:8080/",
          "height": 34
        },
        "outputId": "a35e31b9-9ba3-4ed3-8a18-35477594ab6b"
      },
      "source": [
        "data_3d.shape"
      ],
      "execution_count": 90,
      "outputs": [
        {
          "output_type": "execute_result",
          "data": {
            "text/plain": [
              "(2, 3, 4)"
            ]
          },
          "metadata": {
            "tags": []
          },
          "execution_count": 90
        }
      ]
    },
    {
      "cell_type": "markdown",
      "metadata": {
        "id": "BqQ04sSNv6bg",
        "colab_type": "text"
      },
      "source": [
        "Q. Are you creating a copy or view?\n",
        "\n",
        "Q. Check what .T will do on high dimensional data?\n",
        "\n",
        "Q. Try data_3d.swapaxes(1,2)\n"
      ]
    },
    {
      "cell_type": "code",
      "metadata": {
        "id": "ccflEBo9QGMX",
        "colab_type": "code",
        "colab": {
          "base_uri": "https://localhost:8080/",
          "height": 34
        },
        "outputId": "dcf54e4f-1139-4f79-97af-319bbcc9755b"
      },
      "source": [
        "data_3d.swapaxes(1,2).shape"
      ],
      "execution_count": 79,
      "outputs": [
        {
          "output_type": "execute_result",
          "data": {
            "text/plain": [
              "(2, 4, 3)"
            ]
          },
          "metadata": {
            "tags": []
          },
          "execution_count": 79
        }
      ]
    },
    {
      "cell_type": "code",
      "metadata": {
        "id": "SXhQ3U4Kv-vI",
        "colab_type": "code",
        "colab": {
          "base_uri": "https://localhost:8080/",
          "height": 34
        },
        "outputId": "523aab8e-cbbd-48d8-e686-8a9c0a6e00fd"
      },
      "source": [
        "data_3d.T.shape"
      ],
      "execution_count": 65,
      "outputs": [
        {
          "output_type": "execute_result",
          "data": {
            "text/plain": [
              "(4, 3, 2)"
            ]
          },
          "metadata": {
            "tags": []
          },
          "execution_count": 65
        }
      ]
    },
    {
      "cell_type": "markdown",
      "metadata": {
        "id": "J6JiTUFqwBl4",
        "colab_type": "text"
      },
      "source": [
        "## 1.9 ndarray - Statistical methods\n"
      ]
    },
    {
      "cell_type": "code",
      "metadata": {
        "id": "KrmHCT_VwDBw",
        "colab_type": "code",
        "colab": {
          "base_uri": "https://localhost:8080/",
          "height": 103
        },
        "outputId": "c3361828-4396-45e9-f0e2-a641f791c40f"
      },
      "source": [
        "data = np.random.randn(5, 4) \t\t# normally-distributed data  \n",
        "data"
      ],
      "execution_count": 105,
      "outputs": [
        {
          "output_type": "execute_result",
          "data": {
            "text/plain": [
              "array([[ 2.07811042,  0.68504652, -0.33140053,  0.21605969],\n",
              "       [-0.97215561, -1.44723372, -1.52089982, -0.61042466],\n",
              "       [-1.85910798, -1.11027599,  1.24481886,  0.51583856],\n",
              "       [ 0.00810551, -0.05908333,  0.26003546, -1.22562135],\n",
              "       [-0.86522315,  1.07915769, -0.25628432,  2.21537583]])"
            ]
          },
          "metadata": {
            "tags": []
          },
          "execution_count": 105
        }
      ]
    },
    {
      "cell_type": "code",
      "metadata": {
        "id": "A8RXmQo_wGWX",
        "colab_type": "code",
        "outputId": "b99bdfc6-0fef-438b-c1ce-679e2996651b",
        "colab": {
          "base_uri": "https://localhost:8080/",
          "height": 34
        }
      },
      "source": [
        "data.mean() \t\t\t\t\t\n"
      ],
      "execution_count": 106,
      "outputs": [
        {
          "output_type": "execute_result",
          "data": {
            "text/plain": [
              "-0.09775809688251016"
            ]
          },
          "metadata": {
            "tags": []
          },
          "execution_count": 106
        }
      ]
    },
    {
      "cell_type": "code",
      "metadata": {
        "id": "izkyaf63PSQq",
        "colab_type": "code",
        "colab": {
          "base_uri": "https://localhost:8080/",
          "height": 34
        },
        "outputId": "34e4d32b-9395-4f13-f525-f51d9f392aca"
      },
      "source": [
        "np.mean(data) \t\t\t\t\n"
      ],
      "execution_count": 107,
      "outputs": [
        {
          "output_type": "execute_result",
          "data": {
            "text/plain": [
              "-0.09775809688251016"
            ]
          },
          "metadata": {
            "tags": []
          },
          "execution_count": 107
        }
      ]
    },
    {
      "cell_type": "markdown",
      "metadata": {
        "id": "rKe5RZubwLdT",
        "colab_type": "text"
      },
      "source": [
        "For high dimension data\n",
        "data_2d = np.array([[0, 1, 2], [3, 4, 5], [6, 7, 8]])  \n",
        "data_2d.mean(axis=1) \t\t\t\t# mean over the given axis  \n",
        "data_2d.sum(0) \t\t"
      ]
    },
    {
      "cell_type": "code",
      "metadata": {
        "id": "vi4ZGDWDwGuY",
        "colab_type": "code",
        "outputId": "e89d3eec-2705-49c6-934a-98ab43488640",
        "colab": {
          "base_uri": "https://localhost:8080/",
          "height": 68
        }
      },
      "source": [
        "data_2d = np.array([[0, 1, 2], [3, 4, 5], [6, 7, 8]])  \n",
        "data_2d"
      ],
      "execution_count": 108,
      "outputs": [
        {
          "output_type": "execute_result",
          "data": {
            "text/plain": [
              "array([[0, 1, 2],\n",
              "       [3, 4, 5],\n",
              "       [6, 7, 8]])"
            ]
          },
          "metadata": {
            "tags": []
          },
          "execution_count": 108
        }
      ]
    },
    {
      "cell_type": "code",
      "metadata": {
        "id": "4SHf-2cxPX89",
        "colab_type": "code",
        "colab": {
          "base_uri": "https://localhost:8080/",
          "height": 34
        },
        "outputId": "cd7b4571-b5c6-4f96-bb40-711767e8e6d5"
      },
      "source": [
        "data_2d.mean(axis=1) \t\t\t\t# mean over the given axis  \n"
      ],
      "execution_count": 109,
      "outputs": [
        {
          "output_type": "execute_result",
          "data": {
            "text/plain": [
              "array([1., 4., 7.])"
            ]
          },
          "metadata": {
            "tags": []
          },
          "execution_count": 109
        }
      ]
    },
    {
      "cell_type": "code",
      "metadata": {
        "id": "yI3RkurNPa1w",
        "colab_type": "code",
        "colab": {
          "base_uri": "https://localhost:8080/",
          "height": 34
        },
        "outputId": "8134eae3-0f70-46dc-f190-13d346f6783b"
      },
      "source": [
        "data_2d.mean(axis=0) \t\t\t\t# mean over the given axis  \n"
      ],
      "execution_count": 73,
      "outputs": [
        {
          "output_type": "execute_result",
          "data": {
            "text/plain": [
              "array([3., 4., 5.])"
            ]
          },
          "metadata": {
            "tags": []
          },
          "execution_count": 73
        }
      ]
    },
    {
      "cell_type": "code",
      "metadata": {
        "id": "F1D0jOr8PlkX",
        "colab_type": "code",
        "colab": {
          "base_uri": "https://localhost:8080/",
          "height": 34
        },
        "outputId": "b8297242-f81c-4151-ea46-e11b598483dc"
      },
      "source": [
        "data_2d.mean(0)"
      ],
      "execution_count": 75,
      "outputs": [
        {
          "output_type": "execute_result",
          "data": {
            "text/plain": [
              "array([3., 4., 5.])"
            ]
          },
          "metadata": {
            "tags": []
          },
          "execution_count": 75
        }
      ]
    },
    {
      "cell_type": "code",
      "metadata": {
        "id": "m7dWcCnxPZ5q",
        "colab_type": "code",
        "colab": {
          "base_uri": "https://localhost:8080/",
          "height": 34
        },
        "outputId": "e7abbb3b-3bbf-4d0a-80b6-42ec524728a2"
      },
      "source": [
        "data_2d.sum(0) \t\t"
      ],
      "execution_count": 74,
      "outputs": [
        {
          "output_type": "execute_result",
          "data": {
            "text/plain": [
              "array([ 9, 12, 15])"
            ]
          },
          "metadata": {
            "tags": []
          },
          "execution_count": 74
        }
      ]
    },
    {
      "cell_type": "markdown",
      "metadata": {
        "id": "iG0f0C6bwPRC",
        "colab_type": "text"
      },
      "source": [
        "## 1.10 ndarray - Unique\n",
        "\n",
        "For 1-D ndarrays. returns the sorted unique values in an array  \n",
        "\n"
      ]
    },
    {
      "cell_type": "code",
      "metadata": {
        "id": "pvZn7bFnwNcw",
        "colab_type": "code",
        "colab": {}
      },
      "source": [
        "data_ints = np.array([3, 3, 3, 2, 2, 1, 1, 4, 4])\n"
      ],
      "execution_count": 0,
      "outputs": []
    },
    {
      "cell_type": "code",
      "metadata": {
        "id": "szfrWpEEwWxY",
        "colab_type": "code",
        "colab": {}
      },
      "source": [
        "a = np.unique(data_ints) \t\t\t\t# Output: array([1, 2, 3, 4])\n"
      ],
      "execution_count": 0,
      "outputs": []
    },
    {
      "cell_type": "markdown",
      "metadata": {
        "id": "nsztvCpRwcaw",
        "colab_type": "text"
      },
      "source": [
        "# 2 Pandas"
      ]
    },
    {
      "cell_type": "code",
      "metadata": {
        "id": "VUcFdVwcxpQ0",
        "colab_type": "code",
        "colab": {}
      },
      "source": [
        "import pandas as pd"
      ],
      "execution_count": 0,
      "outputs": []
    },
    {
      "cell_type": "markdown",
      "metadata": {
        "id": "rPN_4kEGwgtr",
        "colab_type": "text"
      },
      "source": [
        "## 2.12 Pandas - Data Structures\n",
        "\n",
        "\n",
        "\n",
        "1.   Series\n",
        "2.   Data Frame\n",
        "\n"
      ]
    },
    {
      "cell_type": "code",
      "metadata": {
        "id": "6J47wIIvwaZQ",
        "colab_type": "code",
        "colab": {}
      },
      "source": [
        "ser = pd.Series([4, 5, 10, 3])\n"
      ],
      "execution_count": 0,
      "outputs": []
    },
    {
      "cell_type": "markdown",
      "metadata": {
        "id": "uBIMiFOmwsSS",
        "colab_type": "text"
      },
      "source": [
        " execute in colab & spot difference from ndarray\n"
      ]
    },
    {
      "cell_type": "code",
      "metadata": {
        "id": "Dk8VtfJCwwDY",
        "colab_type": "code",
        "outputId": "6c567fb3-f731-436c-a3c5-16af6e4c30f0",
        "colab": {
          "base_uri": "https://localhost:8080/",
          "height": 103
        }
      },
      "source": [
        "ser \t\t\t\t\t\t\n"
      ],
      "execution_count": 114,
      "outputs": [
        {
          "output_type": "execute_result",
          "data": {
            "text/plain": [
              "0     4\n",
              "1     5\n",
              "2    10\n",
              "3     3\n",
              "dtype: int64"
            ]
          },
          "metadata": {
            "tags": []
          },
          "execution_count": 114
        }
      ]
    },
    {
      "cell_type": "markdown",
      "metadata": {
        "id": "IjMgzY_Aw1T5",
        "colab_type": "text"
      },
      "source": [
        "## Q. 2.12.1 What difference did you observe?"
      ]
    },
    {
      "cell_type": "code",
      "metadata": {
        "id": "yoVEoVpYwzhI",
        "colab_type": "code",
        "outputId": "ab927bc8-f866-4cb4-eeca-a7f3717c1c8a",
        "colab": {
          "base_uri": "https://localhost:8080/",
          "height": 34
        }
      },
      "source": [
        "ser.values\n"
      ],
      "execution_count": 115,
      "outputs": [
        {
          "output_type": "execute_result",
          "data": {
            "text/plain": [
              "array([ 4,  5, 10,  3])"
            ]
          },
          "metadata": {
            "tags": []
          },
          "execution_count": 115
        }
      ]
    },
    {
      "cell_type": "code",
      "metadata": {
        "id": "MjTqyln2w0xo",
        "colab_type": "code",
        "outputId": "5f1854f0-3397-4f2e-988b-adab2090388f",
        "colab": {
          "base_uri": "https://localhost:8080/",
          "height": 164
        }
      },
      "source": [
        "Ser.index\n"
      ],
      "execution_count": 116,
      "outputs": [
        {
          "output_type": "error",
          "ename": "NameError",
          "evalue": "ignored",
          "traceback": [
            "\u001b[0;31m---------------------------------------------------------------------------\u001b[0m",
            "\u001b[0;31mNameError\u001b[0m                                 Traceback (most recent call last)",
            "\u001b[0;32m<ipython-input-116-2ae49b9c5fd7>\u001b[0m in \u001b[0;36m<module>\u001b[0;34m()\u001b[0m\n\u001b[0;32m----> 1\u001b[0;31m \u001b[0mSer\u001b[0m\u001b[0;34m.\u001b[0m\u001b[0mindex\u001b[0m\u001b[0;34m\u001b[0m\u001b[0;34m\u001b[0m\u001b[0m\n\u001b[0m",
            "\u001b[0;31mNameError\u001b[0m: name 'Ser' is not defined"
          ]
        }
      ]
    },
    {
      "cell_type": "markdown",
      "metadata": {
        "id": "N0h-kuzWxvd8",
        "colab_type": "text"
      },
      "source": [
        "## Q. 2.12.2 Why the error?"
      ]
    },
    {
      "cell_type": "markdown",
      "metadata": {
        "id": "4v3-Hp55w_gI",
        "colab_type": "text"
      },
      "source": [
        "## 2.13 Pandas - DataFrame\n"
      ]
    },
    {
      "cell_type": "code",
      "metadata": {
        "id": "otCcNWVnxBhg",
        "colab_type": "code",
        "colab": {
          "base_uri": "https://localhost:8080/",
          "height": 68
        },
        "outputId": "5d507b5d-25b6-4e50-b6a9-53cba656a2e7"
      },
      "source": [
        "data = {'state': ['Ohio', 'Ohio', 'Ohio', 'Nevada', 'Nevada'], 'year': [2000, 2001, 2002, 2001, 2002], 'pop': [1.5, 1.7, 3.6, 2.4, 2.9]}\n",
        "data"
      ],
      "execution_count": 117,
      "outputs": [
        {
          "output_type": "execute_result",
          "data": {
            "text/plain": [
              "{'pop': [1.5, 1.7, 3.6, 2.4, 2.9],\n",
              " 'state': ['Ohio', 'Ohio', 'Ohio', 'Nevada', 'Nevada'],\n",
              " 'year': [2000, 2001, 2002, 2001, 2002]}"
            ]
          },
          "metadata": {
            "tags": []
          },
          "execution_count": 117
        }
      ]
    },
    {
      "cell_type": "code",
      "metadata": {
        "id": "r5pBL7VPxCr4",
        "colab_type": "code",
        "colab": {
          "base_uri": "https://localhost:8080/",
          "height": 203
        },
        "outputId": "df7850af-21b8-4c63-9d60-1003862ed90c"
      },
      "source": [
        "df = pd.DataFrame(data)  \n",
        "df"
      ],
      "execution_count": 119,
      "outputs": [
        {
          "output_type": "execute_result",
          "data": {
            "text/html": [
              "<div>\n",
              "<style scoped>\n",
              "    .dataframe tbody tr th:only-of-type {\n",
              "        vertical-align: middle;\n",
              "    }\n",
              "\n",
              "    .dataframe tbody tr th {\n",
              "        vertical-align: top;\n",
              "    }\n",
              "\n",
              "    .dataframe thead th {\n",
              "        text-align: right;\n",
              "    }\n",
              "</style>\n",
              "<table border=\"1\" class=\"dataframe\">\n",
              "  <thead>\n",
              "    <tr style=\"text-align: right;\">\n",
              "      <th></th>\n",
              "      <th>state</th>\n",
              "      <th>year</th>\n",
              "      <th>pop</th>\n",
              "    </tr>\n",
              "  </thead>\n",
              "  <tbody>\n",
              "    <tr>\n",
              "      <th>0</th>\n",
              "      <td>Ohio</td>\n",
              "      <td>2000</td>\n",
              "      <td>1.5</td>\n",
              "    </tr>\n",
              "    <tr>\n",
              "      <th>1</th>\n",
              "      <td>Ohio</td>\n",
              "      <td>2001</td>\n",
              "      <td>1.7</td>\n",
              "    </tr>\n",
              "    <tr>\n",
              "      <th>2</th>\n",
              "      <td>Ohio</td>\n",
              "      <td>2002</td>\n",
              "      <td>3.6</td>\n",
              "    </tr>\n",
              "    <tr>\n",
              "      <th>3</th>\n",
              "      <td>Nevada</td>\n",
              "      <td>2001</td>\n",
              "      <td>2.4</td>\n",
              "    </tr>\n",
              "    <tr>\n",
              "      <th>4</th>\n",
              "      <td>Nevada</td>\n",
              "      <td>2002</td>\n",
              "      <td>2.9</td>\n",
              "    </tr>\n",
              "  </tbody>\n",
              "</table>\n",
              "</div>"
            ],
            "text/plain": [
              "    state  year  pop\n",
              "0    Ohio  2000  1.5\n",
              "1    Ohio  2001  1.7\n",
              "2    Ohio  2002  3.6\n",
              "3  Nevada  2001  2.4\n",
              "4  Nevada  2002  2.9"
            ]
          },
          "metadata": {
            "tags": []
          },
          "execution_count": 119
        }
      ]
    },
    {
      "cell_type": "markdown",
      "metadata": {
        "id": "1hvIgXI9xGC4",
        "colab_type": "text"
      },
      "source": [
        "## 2.14 Indexing, Selection, Index dropping\t\n",
        "\n"
      ]
    },
    {
      "cell_type": "code",
      "metadata": {
        "id": "vMFg_NFVxMKA",
        "colab_type": "code",
        "colab": {
          "base_uri": "https://localhost:8080/",
          "height": 120
        },
        "outputId": "cf739b42-b65b-4a7f-8e73-530ce7f01dd5"
      },
      "source": [
        "obj = pd.Series(np.arange(5.), index=['a', 'b', 'c', 'd', 'e'])\n",
        "obj"
      ],
      "execution_count": 120,
      "outputs": [
        {
          "output_type": "execute_result",
          "data": {
            "text/plain": [
              "a    0.0\n",
              "b    1.0\n",
              "c    2.0\n",
              "d    3.0\n",
              "e    4.0\n",
              "dtype: float64"
            ]
          },
          "metadata": {
            "tags": []
          },
          "execution_count": 120
        }
      ]
    },
    {
      "cell_type": "code",
      "metadata": {
        "id": "9qZhiD4IxO26",
        "colab_type": "code",
        "outputId": "8af320ca-98f0-433c-c906-3f6f7e308755",
        "colab": {
          "base_uri": "https://localhost:8080/",
          "height": 34
        }
      },
      "source": [
        "obj['b']  \n"
      ],
      "execution_count": 121,
      "outputs": [
        {
          "output_type": "execute_result",
          "data": {
            "text/plain": [
              "1.0"
            ]
          },
          "metadata": {
            "tags": []
          },
          "execution_count": 121
        }
      ]
    },
    {
      "cell_type": "code",
      "metadata": {
        "id": "dhLhSX51xQpQ",
        "colab_type": "code",
        "outputId": "166a6ff1-1754-4070-b4fe-43ded5b9f1fa",
        "colab": {
          "base_uri": "https://localhost:8080/",
          "height": 34
        }
      },
      "source": [
        "obj[1]\n"
      ],
      "execution_count": 122,
      "outputs": [
        {
          "output_type": "execute_result",
          "data": {
            "text/plain": [
              "1.0"
            ]
          },
          "metadata": {
            "tags": []
          },
          "execution_count": 122
        }
      ]
    },
    {
      "cell_type": "markdown",
      "metadata": {
        "id": "d2xbccQMxTjg",
        "colab_type": "text"
      },
      "source": [
        "### Dropping one or more entries from an axis  \n"
      ]
    },
    {
      "cell_type": "code",
      "metadata": {
        "id": "40cD09fJxRCY",
        "colab_type": "code",
        "outputId": "c894b7c1-df7c-492f-f31b-b748ae933695",
        "colab": {
          "base_uri": "https://localhost:8080/",
          "height": 86
        }
      },
      "source": [
        "obj = pd.Series(np.arange(5.), index=['a', 'b', 'c', 'd', 'e'])\n"
      ],
      "execution_count": 123,
      "outputs": [
        {
          "output_type": "execute_result",
          "data": {
            "text/plain": [
              "a    0.0\n",
              "b    1.0\n",
              "e    4.0\n",
              "dtype: float64"
            ]
          },
          "metadata": {
            "tags": []
          },
          "execution_count": 123
        }
      ]
    },
    {
      "cell_type": "code",
      "metadata": {
        "id": "fUSbO_5EYWB5",
        "colab_type": "code",
        "colab": {
          "base_uri": "https://localhost:8080/",
          "height": 103
        },
        "outputId": "42ddd661-4614-4b6d-966a-c6c7616e71ac"
      },
      "source": [
        "obj.drop('c')\n"
      ],
      "execution_count": 127,
      "outputs": [
        {
          "output_type": "execute_result",
          "data": {
            "text/plain": [
              "a    0.0\n",
              "b    1.0\n",
              "d    3.0\n",
              "e    4.0\n",
              "dtype: float64"
            ]
          },
          "metadata": {
            "tags": []
          },
          "execution_count": 127
        }
      ]
    },
    {
      "cell_type": "code",
      "metadata": {
        "id": "rdvU2dhbYT6P",
        "colab_type": "code",
        "colab": {
          "base_uri": "https://localhost:8080/",
          "height": 86
        },
        "outputId": "88fa273e-1a47-4447-d81a-0c49aa5ae37e"
      },
      "source": [
        "obj.drop(['d', 'c'])\n"
      ],
      "execution_count": 125,
      "outputs": [
        {
          "output_type": "execute_result",
          "data": {
            "text/plain": [
              "a    0.0\n",
              "b    1.0\n",
              "e    4.0\n",
              "dtype: float64"
            ]
          },
          "metadata": {
            "tags": []
          },
          "execution_count": 125
        }
      ]
    },
    {
      "cell_type": "markdown",
      "metadata": {
        "id": "pRLaIxXZxaCo",
        "colab_type": "text"
      },
      "source": [
        "## 2.15 Indexing, Selection, Index dropping -2\t\n",
        "\n",
        "\n",
        "Selection with loc & iloc\n",
        "Select rows & columns using axis labels (loc) or integers (iloc).\n"
      ]
    },
    {
      "cell_type": "code",
      "metadata": {
        "id": "fZxmYlxoxZcJ",
        "colab_type": "code",
        "outputId": "45e121ac-5dd2-4620-ff26-222a0682a7d7",
        "colab": {
          "base_uri": "https://localhost:8080/",
          "height": 85
        }
      },
      "source": [
        "data = pd.DataFrame(np.arange(16).reshape((4, 4)),index=['Ohio', 'Colorado', 'Utah', 'New York'], columns=['one', 'two', 'three', 'four'])  \n",
        "\n",
        "data.iloc[2, [3, 0, 1]]\n"
      ],
      "execution_count": 0,
      "outputs": [
        {
          "output_type": "execute_result",
          "data": {
            "text/plain": [
              "four    11\n",
              "one      8\n",
              "two      9\n",
              "Name: Utah, dtype: int64"
            ]
          },
          "metadata": {
            "tags": []
          },
          "execution_count": 43
        }
      ]
    },
    {
      "cell_type": "code",
      "metadata": {
        "id": "x1PTA-Z6xgnR",
        "colab_type": "code",
        "outputId": "a075c756-8736-4c29-a9fe-9655a3174cbe",
        "colab": {
          "base_uri": "https://localhost:8080/",
          "height": 68
        }
      },
      "source": [
        "data.loc['Colorado', ['two', 'three']]\n"
      ],
      "execution_count": 0,
      "outputs": [
        {
          "output_type": "execute_result",
          "data": {
            "text/plain": [
              "two      5\n",
              "three    6\n",
              "Name: Colorado, dtype: int64"
            ]
          },
          "metadata": {
            "tags": []
          },
          "execution_count": 45
        }
      ]
    },
    {
      "cell_type": "code",
      "metadata": {
        "id": "YsFXkSGDyCkT",
        "colab_type": "code",
        "outputId": "51dfb58e-f794-462c-acf9-c4f2af19bf0b",
        "colab": {
          "base_uri": "https://localhost:8080/",
          "height": 85
        }
      },
      "source": [
        "data.iloc[2, [3, 0, 1]]\n"
      ],
      "execution_count": 0,
      "outputs": [
        {
          "output_type": "execute_result",
          "data": {
            "text/plain": [
              "four    11\n",
              "one      8\n",
              "two      9\n",
              "Name: Utah, dtype: int64"
            ]
          },
          "metadata": {
            "tags": []
          },
          "execution_count": 44
        }
      ]
    },
    {
      "cell_type": "markdown",
      "metadata": {
        "id": "JWNbetRjyGhb",
        "colab_type": "text"
      },
      "source": [
        "## 2.16 Pandas - Descriptive Statistics\n"
      ]
    },
    {
      "cell_type": "code",
      "metadata": {
        "id": "ByJvErzQyDiA",
        "colab_type": "code",
        "outputId": "42236193-48b0-427a-fe16-fc98ddb6cc22",
        "colab": {
          "base_uri": "https://localhost:8080/",
          "height": 163
        }
      },
      "source": [
        "df = DataFrame([[1.4, np.nan], [7.1, -4.5], [np.nan, np.nan], [0.75, -1.3]], index=['a', 'b', 'c', 'd'], columns=['one', 'two'])  \n"
      ],
      "execution_count": 0,
      "outputs": [
        {
          "output_type": "error",
          "ename": "NameError",
          "evalue": "ignored",
          "traceback": [
            "\u001b[0;31m---------------------------------------------------------------------------\u001b[0m",
            "\u001b[0;31mNameError\u001b[0m                                 Traceback (most recent call last)",
            "\u001b[0;32m<ipython-input-50-516e859feed6>\u001b[0m in \u001b[0;36m<module>\u001b[0;34m()\u001b[0m\n\u001b[0;32m----> 1\u001b[0;31m \u001b[0mdf\u001b[0m \u001b[0;34m=\u001b[0m \u001b[0mDataFrame\u001b[0m\u001b[0;34m(\u001b[0m\u001b[0;34m[\u001b[0m\u001b[0;34m[\u001b[0m\u001b[0;36m1.4\u001b[0m\u001b[0;34m,\u001b[0m \u001b[0mnp\u001b[0m\u001b[0;34m.\u001b[0m\u001b[0mnan\u001b[0m\u001b[0;34m]\u001b[0m\u001b[0;34m,\u001b[0m \u001b[0;34m[\u001b[0m\u001b[0;36m7.1\u001b[0m\u001b[0;34m,\u001b[0m \u001b[0;34m-\u001b[0m\u001b[0;36m4.5\u001b[0m\u001b[0;34m]\u001b[0m\u001b[0;34m,\u001b[0m \u001b[0;34m[\u001b[0m\u001b[0mnp\u001b[0m\u001b[0;34m.\u001b[0m\u001b[0mnan\u001b[0m\u001b[0;34m,\u001b[0m \u001b[0mnp\u001b[0m\u001b[0;34m.\u001b[0m\u001b[0mnan\u001b[0m\u001b[0;34m]\u001b[0m\u001b[0;34m,\u001b[0m \u001b[0;34m[\u001b[0m\u001b[0;36m0.75\u001b[0m\u001b[0;34m,\u001b[0m \u001b[0;34m-\u001b[0m\u001b[0;36m1.3\u001b[0m\u001b[0;34m]\u001b[0m\u001b[0;34m]\u001b[0m\u001b[0;34m,\u001b[0m \u001b[0mindex\u001b[0m\u001b[0;34m=\u001b[0m\u001b[0;34m[\u001b[0m\u001b[0;34m'a'\u001b[0m\u001b[0;34m,\u001b[0m \u001b[0;34m'b'\u001b[0m\u001b[0;34m,\u001b[0m \u001b[0;34m'c'\u001b[0m\u001b[0;34m,\u001b[0m \u001b[0;34m'd'\u001b[0m\u001b[0;34m]\u001b[0m\u001b[0;34m,\u001b[0m \u001b[0mcolumns\u001b[0m\u001b[0;34m=\u001b[0m\u001b[0;34m[\u001b[0m\u001b[0;34m'one'\u001b[0m\u001b[0;34m,\u001b[0m \u001b[0;34m'two'\u001b[0m\u001b[0;34m]\u001b[0m\u001b[0;34m)\u001b[0m\u001b[0;34m\u001b[0m\u001b[0;34m\u001b[0m\u001b[0m\n\u001b[0m",
            "\u001b[0;31mNameError\u001b[0m: name 'DataFrame' is not defined"
          ]
        }
      ]
    },
    {
      "cell_type": "markdown",
      "metadata": {
        "id": "s7xeueplyNuw",
        "colab_type": "text"
      },
      "source": [
        "## Q 2.16. Why the error?"
      ]
    },
    {
      "cell_type": "code",
      "metadata": {
        "id": "DieoqYXgyL-o",
        "colab_type": "code",
        "outputId": "2faf3a42-c194-4dba-ff79-b532971e26f2",
        "colab": {
          "base_uri": "https://localhost:8080/",
          "height": 86
        }
      },
      "source": [
        "df.sum()  \n"
      ],
      "execution_count": 130,
      "outputs": [
        {
          "output_type": "execute_result",
          "data": {
            "text/plain": [
              "state    OhioOhioOhioNevadaNevada\n",
              "year                        10006\n",
              "pop                          12.1\n",
              "dtype: object"
            ]
          },
          "metadata": {
            "tags": []
          },
          "execution_count": 130
        }
      ]
    },
    {
      "cell_type": "code",
      "metadata": {
        "id": "4MuMKTOlyR5A",
        "colab_type": "code",
        "colab": {
          "base_uri": "https://localhost:8080/",
          "height": 203
        },
        "outputId": "ebbc0ca3-d252-4115-cffc-f62e0aa0c414"
      },
      "source": [
        "df.head()\n"
      ],
      "execution_count": 128,
      "outputs": [
        {
          "output_type": "execute_result",
          "data": {
            "text/html": [
              "<div>\n",
              "<style scoped>\n",
              "    .dataframe tbody tr th:only-of-type {\n",
              "        vertical-align: middle;\n",
              "    }\n",
              "\n",
              "    .dataframe tbody tr th {\n",
              "        vertical-align: top;\n",
              "    }\n",
              "\n",
              "    .dataframe thead th {\n",
              "        text-align: right;\n",
              "    }\n",
              "</style>\n",
              "<table border=\"1\" class=\"dataframe\">\n",
              "  <thead>\n",
              "    <tr style=\"text-align: right;\">\n",
              "      <th></th>\n",
              "      <th>state</th>\n",
              "      <th>year</th>\n",
              "      <th>pop</th>\n",
              "    </tr>\n",
              "  </thead>\n",
              "  <tbody>\n",
              "    <tr>\n",
              "      <th>0</th>\n",
              "      <td>Ohio</td>\n",
              "      <td>2000</td>\n",
              "      <td>1.5</td>\n",
              "    </tr>\n",
              "    <tr>\n",
              "      <th>1</th>\n",
              "      <td>Ohio</td>\n",
              "      <td>2001</td>\n",
              "      <td>1.7</td>\n",
              "    </tr>\n",
              "    <tr>\n",
              "      <th>2</th>\n",
              "      <td>Ohio</td>\n",
              "      <td>2002</td>\n",
              "      <td>3.6</td>\n",
              "    </tr>\n",
              "    <tr>\n",
              "      <th>3</th>\n",
              "      <td>Nevada</td>\n",
              "      <td>2001</td>\n",
              "      <td>2.4</td>\n",
              "    </tr>\n",
              "    <tr>\n",
              "      <th>4</th>\n",
              "      <td>Nevada</td>\n",
              "      <td>2002</td>\n",
              "      <td>2.9</td>\n",
              "    </tr>\n",
              "  </tbody>\n",
              "</table>\n",
              "</div>"
            ],
            "text/plain": [
              "    state  year  pop\n",
              "0    Ohio  2000  1.5\n",
              "1    Ohio  2001  1.7\n",
              "2    Ohio  2002  3.6\n",
              "3  Nevada  2001  2.4\n",
              "4  Nevada  2002  2.9"
            ]
          },
          "metadata": {
            "tags": []
          },
          "execution_count": 128
        }
      ]
    },
    {
      "cell_type": "code",
      "metadata": {
        "id": "_7HWSlk5Y5SC",
        "colab_type": "code",
        "colab": {
          "base_uri": "https://localhost:8080/",
          "height": 203
        },
        "outputId": "becbeb94-f347-46db-98e5-bd41e11fa1ee"
      },
      "source": [
        "df.tail()\n"
      ],
      "execution_count": 129,
      "outputs": [
        {
          "output_type": "execute_result",
          "data": {
            "text/html": [
              "<div>\n",
              "<style scoped>\n",
              "    .dataframe tbody tr th:only-of-type {\n",
              "        vertical-align: middle;\n",
              "    }\n",
              "\n",
              "    .dataframe tbody tr th {\n",
              "        vertical-align: top;\n",
              "    }\n",
              "\n",
              "    .dataframe thead th {\n",
              "        text-align: right;\n",
              "    }\n",
              "</style>\n",
              "<table border=\"1\" class=\"dataframe\">\n",
              "  <thead>\n",
              "    <tr style=\"text-align: right;\">\n",
              "      <th></th>\n",
              "      <th>state</th>\n",
              "      <th>year</th>\n",
              "      <th>pop</th>\n",
              "    </tr>\n",
              "  </thead>\n",
              "  <tbody>\n",
              "    <tr>\n",
              "      <th>0</th>\n",
              "      <td>Ohio</td>\n",
              "      <td>2000</td>\n",
              "      <td>1.5</td>\n",
              "    </tr>\n",
              "    <tr>\n",
              "      <th>1</th>\n",
              "      <td>Ohio</td>\n",
              "      <td>2001</td>\n",
              "      <td>1.7</td>\n",
              "    </tr>\n",
              "    <tr>\n",
              "      <th>2</th>\n",
              "      <td>Ohio</td>\n",
              "      <td>2002</td>\n",
              "      <td>3.6</td>\n",
              "    </tr>\n",
              "    <tr>\n",
              "      <th>3</th>\n",
              "      <td>Nevada</td>\n",
              "      <td>2001</td>\n",
              "      <td>2.4</td>\n",
              "    </tr>\n",
              "    <tr>\n",
              "      <th>4</th>\n",
              "      <td>Nevada</td>\n",
              "      <td>2002</td>\n",
              "      <td>2.9</td>\n",
              "    </tr>\n",
              "  </tbody>\n",
              "</table>\n",
              "</div>"
            ],
            "text/plain": [
              "    state  year  pop\n",
              "0    Ohio  2000  1.5\n",
              "1    Ohio  2001  1.7\n",
              "2    Ohio  2002  3.6\n",
              "3  Nevada  2001  2.4\n",
              "4  Nevada  2002  2.9"
            ]
          },
          "metadata": {
            "tags": []
          },
          "execution_count": 129
        }
      ]
    },
    {
      "cell_type": "code",
      "metadata": {
        "id": "rv9URlnsY7Ff",
        "colab_type": "code",
        "colab": {}
      },
      "source": [
        ""
      ],
      "execution_count": 0,
      "outputs": []
    }
  ]
}